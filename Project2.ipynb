{
 "cells": [
  {
   "cell_type": "code",
   "execution_count": 1,
   "metadata": {},
   "outputs": [],
   "source": [
    "import pandas as pd \n",
    "import numpy as np \n",
    "import seaborn as sb \n",
    "from IPython.display import display, HTML\n",
    "import matplotlib.pyplot as plt\n",
    "import matplotlib.pyplot as plt\n",
    "import warnings\n",
    "warnings.filterwarnings('ignore')\n",
    "from sklearn.neighbors import KNeighborsClassifier\n",
    "from sklearn.ensemble import RandomForestClassifier\n",
    "from sklearn.linear_model import LogisticRegression\n",
    "from sklearn.discriminant_analysis import QuadraticDiscriminantAnalysis\n"
   ]
  },
  {
   "cell_type": "markdown",
   "metadata": {},
   "source": [
    "## Data Collection and Cleaning "
   ]
  },
  {
   "cell_type": "code",
   "execution_count": 2,
   "metadata": {},
   "outputs": [],
   "source": [
    "image1 = pd.read_csv(\"image_data/image1.txt\",delimiter=r\"\\s+\",names=['y','x','expert_label','NDAI','SD','CORR','rad_angle_DF','rad_angle_CF','rad_angle_BF','rad_angle_AF','rad_angle_AN'])\n",
    "image2 = pd.read_csv(\"image_data/image2.txt\",delimiter=r\"\\s+\",names=['y','x','expert_label','NDAI','SD','CORR','rad_angle_DF','rad_angle_CF','rad_angle_BF','rad_angle_AF','rad_angle_AN'])\n",
    "image3 = pd.read_csv(\"image_data/image3.txt\",delimiter=r\"\\s+\",names=['y','x','expert_label','NDAI','SD','CORR','rad_angle_DF','rad_angle_CF','rad_angle_BF','rad_angle_AF','rad_angle_AN'])\n",
    "#image1['expert_label'] = image1['expert_label'].apply(str)\n",
    "data = {'Image1':image1,'Image2':image2,'Image3':image3}\n",
    "image1['expert_label'].replace(1,'cloud',inplace=True)\n",
    "image1['expert_label'].replace(-1,'not_cloud',inplace=True)\n",
    "image1['expert_label'].replace(0,'unlabeled',inplace=True)\n",
    "image2['expert_label'].replace(1,'cloud',inplace=True)\n",
    "image2['expert_label'].replace(-1,'not_cloud',inplace=True)\n",
    "image2['expert_label'].replace(0,'unlabeled',inplace=True)\n",
    "image3['expert_label'].replace(1,'cloud',inplace=True)\n",
    "image3['expert_label'].replace(-1,'not_cloud',inplace=True)\n",
    "image3['expert_label'].replace(0,'unlabeled',inplace=True)"
   ]
  },
  {
   "cell_type": "markdown",
   "metadata": {},
   "source": [
    "# Part 1\n",
    "## EDA  \n",
    "\n",
    "Summarizing the data"
   ]
  },
  {
   "cell_type": "code",
   "execution_count": 3,
   "metadata": {},
   "outputs": [
    {
     "data": {
      "text/html": [
       "<div>\n",
       "<style scoped>\n",
       "    .dataframe tbody tr th:only-of-type {\n",
       "        vertical-align: middle;\n",
       "    }\n",
       "\n",
       "    .dataframe tbody tr th {\n",
       "        vertical-align: top;\n",
       "    }\n",
       "\n",
       "    .dataframe thead th {\n",
       "        text-align: right;\n",
       "    }\n",
       "</style>\n",
       "<table border=\"1\" class=\"dataframe\">\n",
       "  <thead>\n",
       "    <tr style=\"text-align: right;\">\n",
       "      <th></th>\n",
       "      <th>y</th>\n",
       "      <th>x</th>\n",
       "      <th>NDAI</th>\n",
       "      <th>SD</th>\n",
       "      <th>CORR</th>\n",
       "      <th>rad_angle_DF</th>\n",
       "      <th>rad_angle_CF</th>\n",
       "      <th>rad_angle_BF</th>\n",
       "      <th>rad_angle_AF</th>\n",
       "      <th>rad_angle_AN</th>\n",
       "    </tr>\n",
       "  </thead>\n",
       "  <tbody>\n",
       "    <tr>\n",
       "      <th>count</th>\n",
       "      <td>115229.000000</td>\n",
       "      <td>115229.000000</td>\n",
       "      <td>115229.000000</td>\n",
       "      <td>115229.000000</td>\n",
       "      <td>115229.000000</td>\n",
       "      <td>115229.000000</td>\n",
       "      <td>115229.000000</td>\n",
       "      <td>115229.000000</td>\n",
       "      <td>115229.000000</td>\n",
       "      <td>115229.000000</td>\n",
       "    </tr>\n",
       "    <tr>\n",
       "      <th>mean</th>\n",
       "      <td>193.152982</td>\n",
       "      <td>218.252402</td>\n",
       "      <td>0.871229</td>\n",
       "      <td>5.371955</td>\n",
       "      <td>0.160203</td>\n",
       "      <td>272.050141</td>\n",
       "      <td>254.085701</td>\n",
       "      <td>237.375468</td>\n",
       "      <td>215.893527</td>\n",
       "      <td>199.872984</td>\n",
       "    </tr>\n",
       "    <tr>\n",
       "      <th>std</th>\n",
       "      <td>110.273173</td>\n",
       "      <td>87.084083</td>\n",
       "      <td>1.432188</td>\n",
       "      <td>6.629032</td>\n",
       "      <td>0.086195</td>\n",
       "      <td>43.071194</td>\n",
       "      <td>46.995037</td>\n",
       "      <td>48.052027</td>\n",
       "      <td>45.544272</td>\n",
       "      <td>41.846728</td>\n",
       "    </tr>\n",
       "    <tr>\n",
       "      <th>min</th>\n",
       "      <td>2.000000</td>\n",
       "      <td>65.000000</td>\n",
       "      <td>-1.617164</td>\n",
       "      <td>0.251537</td>\n",
       "      <td>-0.327130</td>\n",
       "      <td>62.005207</td>\n",
       "      <td>38.151493</td>\n",
       "      <td>32.085110</td>\n",
       "      <td>28.937529</td>\n",
       "      <td>31.938208</td>\n",
       "    </tr>\n",
       "    <tr>\n",
       "      <th>25%</th>\n",
       "      <td>98.000000</td>\n",
       "      <td>143.000000</td>\n",
       "      <td>-0.528429</td>\n",
       "      <td>1.464694</td>\n",
       "      <td>0.117813</td>\n",
       "      <td>260.348660</td>\n",
       "      <td>245.781160</td>\n",
       "      <td>231.355740</td>\n",
       "      <td>212.542500</td>\n",
       "      <td>199.395860</td>\n",
       "    </tr>\n",
       "    <tr>\n",
       "      <th>50%</th>\n",
       "      <td>193.000000</td>\n",
       "      <td>218.000000</td>\n",
       "      <td>0.859061</td>\n",
       "      <td>2.889678</td>\n",
       "      <td>0.151024</td>\n",
       "      <td>285.522090</td>\n",
       "      <td>269.685420</td>\n",
       "      <td>255.835590</td>\n",
       "      <td>234.782680</td>\n",
       "      <td>215.092830</td>\n",
       "    </tr>\n",
       "    <tr>\n",
       "      <th>75%</th>\n",
       "      <td>289.000000</td>\n",
       "      <td>294.000000</td>\n",
       "      <td>2.089412</td>\n",
       "      <td>6.651122</td>\n",
       "      <td>0.174720</td>\n",
       "      <td>300.284670</td>\n",
       "      <td>283.674960</td>\n",
       "      <td>266.405400</td>\n",
       "      <td>240.755140</td>\n",
       "      <td>222.023770</td>\n",
       "    </tr>\n",
       "    <tr>\n",
       "      <th>max</th>\n",
       "      <td>383.000000</td>\n",
       "      <td>369.000000</td>\n",
       "      <td>4.393660</td>\n",
       "      <td>81.535454</td>\n",
       "      <td>0.750847</td>\n",
       "      <td>367.467620</td>\n",
       "      <td>335.254850</td>\n",
       "      <td>335.081480</td>\n",
       "      <td>318.702940</td>\n",
       "      <td>306.926610</td>\n",
       "    </tr>\n",
       "  </tbody>\n",
       "</table>\n",
       "</div>"
      ],
      "text/plain": [
       "                   y              x           NDAI             SD  \\\n",
       "count  115229.000000  115229.000000  115229.000000  115229.000000   \n",
       "mean      193.152982     218.252402       0.871229       5.371955   \n",
       "std       110.273173      87.084083       1.432188       6.629032   \n",
       "min         2.000000      65.000000      -1.617164       0.251537   \n",
       "25%        98.000000     143.000000      -0.528429       1.464694   \n",
       "50%       193.000000     218.000000       0.859061       2.889678   \n",
       "75%       289.000000     294.000000       2.089412       6.651122   \n",
       "max       383.000000     369.000000       4.393660      81.535454   \n",
       "\n",
       "                CORR   rad_angle_DF   rad_angle_CF   rad_angle_BF  \\\n",
       "count  115229.000000  115229.000000  115229.000000  115229.000000   \n",
       "mean        0.160203     272.050141     254.085701     237.375468   \n",
       "std         0.086195      43.071194      46.995037      48.052027   \n",
       "min        -0.327130      62.005207      38.151493      32.085110   \n",
       "25%         0.117813     260.348660     245.781160     231.355740   \n",
       "50%         0.151024     285.522090     269.685420     255.835590   \n",
       "75%         0.174720     300.284670     283.674960     266.405400   \n",
       "max         0.750847     367.467620     335.254850     335.081480   \n",
       "\n",
       "        rad_angle_AF   rad_angle_AN  \n",
       "count  115229.000000  115229.000000  \n",
       "mean      215.893527     199.872984  \n",
       "std        45.544272      41.846728  \n",
       "min        28.937529      31.938208  \n",
       "25%       212.542500     199.395860  \n",
       "50%       234.782680     215.092830  \n",
       "75%       240.755140     222.023770  \n",
       "max       318.702940     306.926610  "
      ]
     },
     "execution_count": 3,
     "metadata": {},
     "output_type": "execute_result"
    }
   ],
   "source": [
    "image1.describe()"
   ]
  },
  {
   "cell_type": "code",
   "execution_count": 4,
   "metadata": {},
   "outputs": [
    {
     "data": {
      "text/html": [
       "<div>\n",
       "<style scoped>\n",
       "    .dataframe tbody tr th:only-of-type {\n",
       "        vertical-align: middle;\n",
       "    }\n",
       "\n",
       "    .dataframe tbody tr th {\n",
       "        vertical-align: top;\n",
       "    }\n",
       "\n",
       "    .dataframe thead th {\n",
       "        text-align: right;\n",
       "    }\n",
       "</style>\n",
       "<table border=\"1\" class=\"dataframe\">\n",
       "  <thead>\n",
       "    <tr style=\"text-align: right;\">\n",
       "      <th></th>\n",
       "      <th>Percentage Counts Image1</th>\n",
       "    </tr>\n",
       "    <tr>\n",
       "      <th>expert_label</th>\n",
       "      <th></th>\n",
       "    </tr>\n",
       "  </thead>\n",
       "  <tbody>\n",
       "    <tr>\n",
       "      <th>cloud</th>\n",
       "      <td>0.177655</td>\n",
       "    </tr>\n",
       "    <tr>\n",
       "      <th>not_cloud</th>\n",
       "      <td>0.437789</td>\n",
       "    </tr>\n",
       "    <tr>\n",
       "      <th>unlabeled</th>\n",
       "      <td>0.384556</td>\n",
       "    </tr>\n",
       "  </tbody>\n",
       "</table>\n",
       "</div>"
      ],
      "text/plain": [
       "              Percentage Counts Image1\n",
       "expert_label                          \n",
       "cloud                         0.177655\n",
       "not_cloud                     0.437789\n",
       "unlabeled                     0.384556"
      ]
     },
     "metadata": {},
     "output_type": "display_data"
    },
    {
     "name": "stdout",
     "output_type": "stream",
     "text": [
      "\n"
     ]
    },
    {
     "data": {
      "text/html": [
       "<div>\n",
       "<style scoped>\n",
       "    .dataframe tbody tr th:only-of-type {\n",
       "        vertical-align: middle;\n",
       "    }\n",
       "\n",
       "    .dataframe tbody tr th {\n",
       "        vertical-align: top;\n",
       "    }\n",
       "\n",
       "    .dataframe thead th {\n",
       "        text-align: right;\n",
       "    }\n",
       "</style>\n",
       "<table border=\"1\" class=\"dataframe\">\n",
       "  <thead>\n",
       "    <tr style=\"text-align: right;\">\n",
       "      <th></th>\n",
       "      <th>Percentage Counts Image2</th>\n",
       "    </tr>\n",
       "    <tr>\n",
       "      <th>expert_label</th>\n",
       "      <th></th>\n",
       "    </tr>\n",
       "  </thead>\n",
       "  <tbody>\n",
       "    <tr>\n",
       "      <th>cloud</th>\n",
       "      <td>0.340765</td>\n",
       "    </tr>\n",
       "    <tr>\n",
       "      <th>not_cloud</th>\n",
       "      <td>0.372146</td>\n",
       "    </tr>\n",
       "    <tr>\n",
       "      <th>unlabeled</th>\n",
       "      <td>0.286056</td>\n",
       "    </tr>\n",
       "  </tbody>\n",
       "</table>\n",
       "</div>"
      ],
      "text/plain": [
       "              Percentage Counts Image2\n",
       "expert_label                          \n",
       "cloud                         0.340765\n",
       "not_cloud                     0.372146\n",
       "unlabeled                     0.286056"
      ]
     },
     "metadata": {},
     "output_type": "display_data"
    },
    {
     "name": "stdout",
     "output_type": "stream",
     "text": [
      "\n"
     ]
    },
    {
     "data": {
      "text/html": [
       "<div>\n",
       "<style scoped>\n",
       "    .dataframe tbody tr th:only-of-type {\n",
       "        vertical-align: middle;\n",
       "    }\n",
       "\n",
       "    .dataframe tbody tr th {\n",
       "        vertical-align: top;\n",
       "    }\n",
       "\n",
       "    .dataframe thead th {\n",
       "        text-align: right;\n",
       "    }\n",
       "</style>\n",
       "<table border=\"1\" class=\"dataframe\">\n",
       "  <thead>\n",
       "    <tr style=\"text-align: right;\">\n",
       "      <th></th>\n",
       "      <th>Percentage Counts Image3</th>\n",
       "    </tr>\n",
       "    <tr>\n",
       "      <th>expert_label</th>\n",
       "      <th></th>\n",
       "    </tr>\n",
       "  </thead>\n",
       "  <tbody>\n",
       "    <tr>\n",
       "      <th>cloud</th>\n",
       "      <td>0.184363</td>\n",
       "    </tr>\n",
       "    <tr>\n",
       "      <th>not_cloud</th>\n",
       "      <td>0.292912</td>\n",
       "    </tr>\n",
       "    <tr>\n",
       "      <th>unlabeled</th>\n",
       "      <td>0.522620</td>\n",
       "    </tr>\n",
       "  </tbody>\n",
       "</table>\n",
       "</div>"
      ],
      "text/plain": [
       "              Percentage Counts Image3\n",
       "expert_label                          \n",
       "cloud                         0.184363\n",
       "not_cloud                     0.292912\n",
       "unlabeled                     0.522620"
      ]
     },
     "metadata": {},
     "output_type": "display_data"
    },
    {
     "name": "stdout",
     "output_type": "stream",
     "text": [
      "\n"
     ]
    }
   ],
   "source": [
    "for d in data: \n",
    "    counts = data[d].groupby('expert_label').count().loc[:,'y']\n",
    "    counts.name = 'Percentage Counts ' + d\n",
    "    display(pd.DataFrame(counts / len(image1)))\n",
    "    print('')"
   ]
  },
  {
   "cell_type": "code",
   "execution_count": 5,
   "metadata": {},
   "outputs": [
    {
     "data": {
      "image/png": "[encoded data removed]",
      "text/plain": [
       "<Figure size 432x288 with 1 Axes>"
      ]
     },
     "metadata": {
      "needs_background": "light"
     },
     "output_type": "display_data"
    },
    {
     "data": {
      "image/png": "[encoded data removed]",
      "text/plain": [
       "<Figure size 432x288 with 1 Axes>"
      ]
     },
     "metadata": {
      "needs_background": "light"
     },
     "output_type": "display_data"
    },
    {
     "data": {
      "image/png": "[encoded data removed]",
      "text/plain": [
       "<Figure size 432x288 with 1 Axes>"
      ]
     },
     "metadata": {
      "needs_background": "light"
     },
     "output_type": "display_data"
    }
   ],
   "source": [
    "for d in data: \n",
    "    to_plot = data[d]\n",
    "    sb.scatterplot(to_plot['x'],to_plot['y'],hue=to_plot['expert_label'],palette=['r','b','g'])\n",
    "    plt.legend(bbox_to_anchor=(1.05, 1), loc=2, borderaxespad=0.)\n",
    "    plt.title(d)\n",
    "    plt.show()\n"
   ]
  },
  {
   "cell_type": "markdown",
   "metadata": {},
   "source": [
    "##  Reg Plots\n",
    "\n",
    "Graphs to show the relationship between the features \n",
    "\n"
   ]
  },
  {
   "cell_type": "code",
   "execution_count": 6,
   "metadata": {},
   "outputs": [
    {
     "data": {
      "text/plain": [
       "'subs = [\\'cloud\\',\\'not_cloud\\',\\'unlabeled\\']\\nfor d in data: \\n    to_plot = data[d]\\n    plt.title(\"Regplot for NDAI and CORR for \" + d)\\n    sb.regplot(x=\\'NDAI\\',y=\\'SD\\',data=to_plot,marker=\\'+\\')\\n    plt.show()\\n    \\n        \\nfor d in data: \\n    to_plot = data[d]\\n    plt.title(\"Regplot for NDAI and CORR \"  + \" for \" + d)\\n    sb.regplot(x=\\'NDAI\\',y=\\'CORR\\',data=to_plot,marker=\\'+\\')\\n    plt.show()\\n        \\nfor d in data: \\n    to_plot = data[d]\\n    plt.title(\"Regplot for NDAI and SD \" + \" for \" + d)\\n    sb.regplot(x=\\'NDAI\\',y=\\'SD\\',data=to_plot,marker=\\'+\\')\\n    plt.show()\\n    \\nfor d in data: \\n    to_plot = data[d]\\n    plt.title(\"Regplot for CORR and SD \"  + \" for \" + d)\\n    sb.regplot(x=\\'CORR\\',y=\\'SD\\',data=to_plot,marker=\\'+\\')\\n    plt.show() '"
      ]
     },
     "execution_count": 6,
     "metadata": {},
     "output_type": "execute_result"
    }
   ],
   "source": [
    "\n",
    "subs = ['cloud','not_cloud','unlabeled']\n",
    "for d in data: \n",
    "    to_plot = data[d]\n",
    "    plt.title(\"Regplot for NDAI and CORR for \" + d)\n",
    "    sb.regplot(x='NDAI',y='SD',data=to_plot,marker='+')\n",
    "    plt.show()\n",
    "    \n",
    "        \n",
    "for d in data: \n",
    "    to_plot = data[d]\n",
    "    plt.title(\"Regplot for NDAI and CORR \"  + \" for \" + d)\n",
    "    sb.regplot(x='NDAI',y='CORR',data=to_plot,marker='+')\n",
    "    plt.show()\n",
    "        \n",
    "for d in data: \n",
    "    to_plot = data[d]\n",
    "    plt.title(\"Regplot for NDAI and SD \" + \" for \" + d)\n",
    "    sb.regplot(x='NDAI',y='SD',data=to_plot,marker='+')\n",
    "    plt.show()\n",
    "    \n",
    "for d in data: \n",
    "    to_plot = data[d]\n",
    "    plt.title(\"Regplot for CORR and SD \"  + \" for \" + d)\n",
    "    sb.regplot(x='CORR',y='SD',data=to_plot,marker='+')\n",
    "    plt.show() "
   ]
  },
  {
   "cell_type": "markdown",
   "metadata": {},
   "source": [
    "## Histograms/Bar Charts \n",
    "\n",
    "Graphs to show relationship between expert labels and individual features w"
   ]
  },
  {
   "cell_type": "code",
   "execution_count": 7,
   "metadata": {},
   "outputs": [
    {
     "data": {
      "text/plain": [
       "<matplotlib.legend.Legend at 0x1a1c2c4be0>"
      ]
     },
     "execution_count": 7,
     "metadata": {},
     "output_type": "execute_result"
    },
    {
     "data": {
      "image/png": "[encoded data removed]",
      "text/plain": [
       "<Figure size 432x288 with 1 Axes>"
      ]
     },
     "metadata": {
      "needs_background": "light"
     },
     "output_type": "display_data"
    }
   ],
   "source": [
    "image1 = image3\n",
    "sb.distplot(image1[image1['expert_label'] == 'cloud' ]['NDAI'],label='cloud')\n",
    "sb.distplot(image1[image1['expert_label'] == 'unlabeled' ]['NDAI'],label='unlabeled')\n",
    "sb.distplot(image1[image1['expert_label'] == 'not_cloud' ]['NDAI'],label='not cloud')\n",
    "plt.title('Image3 NDAI')\n",
    "\n",
    "plt.legend()"
   ]
  },
  {
   "cell_type": "code",
   "execution_count": 8,
   "metadata": {},
   "outputs": [
    {
     "data": {
      "text/plain": [
       "<matplotlib.legend.Legend at 0x1a1cc3b588>"
      ]
     },
     "execution_count": 8,
     "metadata": {},
     "output_type": "execute_result"
    },
    {
     "data": {
      "image/png": "[encoded data removed]",
      "text/plain": [
       "<Figure size 432x288 with 1 Axes>"
      ]
     },
     "metadata": {
      "needs_background": "light"
     },
     "output_type": "display_data"
    }
   ],
   "source": [
    "sb.distplot(image1[image1['expert_label'] == 'cloud' ]['SD'],label='cloud')\n",
    "sb.distplot(image1[image1['expert_label'] == 'unlabeled' ]['SD'],label='unlabeled')\n",
    "sb.distplot(image1[image1['expert_label'] == 'not_cloud' ]['SD'],label='not cloud')\n",
    "plt.title('Image3 SD')\n",
    "\n",
    "plt.legend()"
   ]
  },
  {
   "cell_type": "code",
   "execution_count": 9,
   "metadata": {},
   "outputs": [
    {
     "data": {
      "text/plain": [
       "<matplotlib.legend.Legend at 0x1a1d819438>"
      ]
     },
     "execution_count": 9,
     "metadata": {},
     "output_type": "execute_result"
    },
    {
     "data": {
      "image/png": "[encoded data removed]",
      "text/plain": [
       "<Figure size 432x288 with 1 Axes>"
      ]
     },
     "metadata": {
      "needs_background": "light"
     },
     "output_type": "display_data"
    }
   ],
   "source": [
    "sb.distplot(image1[image1['expert_label'] == 'cloud' ]['CORR'],label='cloud')\n",
    "sb.distplot(image1[image1['expert_label'] == 'unlabeled' ]['CORR'],label='unlabeled')\n",
    "sb.distplot(image1[image1['expert_label'] == 'not_cloud' ]['CORR'],label='not cloud')\n",
    "plt.title('Image3 CORR')\n",
    "plt.legend()"
   ]
  },
  {
   "cell_type": "markdown",
   "metadata": {},
   "source": [
    "# Part 2a \n",
    "## 1st non-trivial way"
   ]
  },
  {
   "cell_type": "code",
   "execution_count": null,
   "metadata": {},
   "outputs": [],
   "source": [
    "from sklearn.model_selection import train_test_split"
   ]
  },
  {
   "cell_type": "code",
   "execution_count": 1,
   "metadata": {},
   "outputs": [],
   "source": [
    "# from sklearn.model_selection import cross_validate\n",
    "from sklearn.model_selection import StratifiedKFold"
   ]
  },
  {
   "cell_type": "code",
   "execution_count": null,
   "metadata": {},
   "outputs": [],
   "source": [
    "X1 = image1.drop(\"expert_label\", axis=1)\n",
    "y1 = image1[\"expert_label\"]\n",
    "X2 = image2.drop(\"expert_label\", axis=1)\n",
    "y2 = image2[\"expert_label\"]\n",
    "X3 = image3.drop(\"expert_label\", axis=1)\n",
    "y3 = image3[\"expert_label\"]"
   ]
  },
  {
   "cell_type": "code",
   "execution_count": null,
   "metadata": {},
   "outputs": [],
   "source": [
    "def StratifiedSplit(n_split, X, y):\n",
    "    \n",
    "    skf = StratifiedKFold(n_splits=3, shuffle=False)\n",
    "    skf.get_n_splits(X, y)\n",
    "    \n",
    "    for train_idx, test_idx in skf.split(X, y):\n",
    "        X_sstrain, X_sstest = X.iloc[train_idx], X.iloc[test_idx]\n",
    "        y_sstrain, y_sstest = y.iloc[train_idx], y.iloc[test_idx]\n",
    "        \n",
    "    for train_idx, val_idx in skf.split(X_sstrain, y_sstrain):\n",
    "        X_ssval = X_sstrain.iloc[val_idx]\n",
    "        y_ssval = y_sstrain.iloc[val_idx]\n",
    "    \n",
    "    return X_sstrain, X_ssval, X_sstest, y_sstrain, y_ssval, y_sstest"
   ]
  },
  {
   "cell_type": "code",
   "execution_count": null,
   "metadata": {},
   "outputs": [],
   "source": [
    "X_sstrain1, X_ssval1, X_sstest1, y_sstrain1, y_ssval1,y_sstest1 = StratifiedSplit(3, X1, y1)\n",
    "\n",
    "print(X_sstrain1.shape, X_ssval1.shape, X_sstest1.shape)\n",
    "print(y_sstrain1.shape, y_ssval1.shape, y_sstest1.shape)\n",
    "\n",
    "X_sstrain2, X_ssval2, X_sstest2, y_sstrain2, y_ssval2, y_sstest2 = StratifiedSplit(3, X2, y2)\n",
    "\n",
    "print(X_sstrain2.shape, X_ssval2.shape, X_sstest2.shape)\n",
    "print(y_sstrain2.shape, y_ssval2.shape, y_sstest2.shape)\n",
    "\n",
    "X_sstrain3, X_ssval3, X_sstest3, y_sstrain3, y_ssval3, y_sstest3 = StratifiedSplit(3, X3, y3)\n",
    "\n",
    "print(X_sstrain3.shape, X_ssval3.shape, X_sstest3.shape)\n",
    "print(y_sstrain3.shape, y_ssval3.shape, y_sstest3.shape)"
   ]
  },
  {
   "cell_type": "code",
   "execution_count": null,
   "metadata": {},
   "outputs": [],
   "source": [
    "X_sstr_all = X_sstrain1.append([X_sstrain2, X_sstrain3])\n",
    "y_sstr_all = y_sstrain1.append([y_sstrain2, y_sstrain3])\n",
    "X_ssval_all = X_ssval1.append([X_ssval2, X_ssval3])\n",
    "y_ssval_all = y_ssval1.append([y_ssval2, y_ssval3])\n",
    "X_sstest_all = X_sstest1.append([X_sstest2, X_sstest3])\n",
    "y_sstest_all = y_sstest1.append([y_sstest2, y_sstest3])\n",
    "\n",
    "print(X_sstr_all.shape, y_sstr_all.shape)\n",
    "print(X_ssval_all.shape, y_ssval_all.shape)\n",
    "print(X_sstest_all.shape, y_sstest_all.shape)"
   ]
  },
  {
   "cell_type": "markdown",
   "metadata": {},
   "source": [
    "## 2nd non-trivial way"
   ]
  },
  {
   "cell_type": "code",
   "execution_count": null,
   "metadata": {},
   "outputs": [],
   "source": [
    "print(f\"image1 smallest y-coordiante: {image1['y'].min()}\")\n",
    "print(f\"image1 greatest y-coordiante: {image1['y'].max()}\")\n",
    "print(f\"image1 smallest x-coordiante: {image1['x'].min()}\")\n",
    "print(f\"image1 greatest x-coordiante: {image1['x'].max()}\")\n",
    "\n",
    "print(f\"image2 smallest y-coordiante: {image2['y'].min()}\")\n",
    "print(f\"image2 greatest y-coordiante: {image2['y'].max()}\")\n",
    "print(f\"image2 smallest x-coordiante: {image2['x'].min()}\")\n",
    "print(f\"image2 greatest x-coordiante: {image2['x'].max()}\")\n",
    "\n",
    "print(f\"image3 smallest y-coordiante: {image3['y'].min()}\")\n",
    "print(f\"image3 greatest y-coordiante: {image3['y'].max()}\")\n",
    "print(f\"image3 smallest x-coordiante: {image3['x'].min()}\")\n",
    "print(f\"image3 greatest x-coordiante: {image3['x'].max()}\")\n"
   ]
  },
  {
   "cell_type": "code",
   "execution_count": null,
   "metadata": {},
   "outputs": [],
   "source": [
    "# dimension for y-coord\n",
    "num_yblocks = (383-2)/3\n",
    "print(\"There are {} blocks along the y coord\".format(num_yblocks))\n",
    "\n",
    "# dimension for x-coord\n",
    "num_xblocks = (369-65)/4\n",
    "print(\"There are {} blocks along the x coord\".format(num_xblocks))"
   ]
  },
  {
   "cell_type": "code",
   "execution_count": null,
   "metadata": {},
   "outputs": [],
   "source": [
    "train_df = pd.DataFrame()\n",
    "val_df = pd.DataFrame()\n",
    "test_df = pd.DataFrame()\n",
    "\n",
    "x_axis = np.arange(start=65, stop=369, step=4)\n",
    "y_axis = np.arange(start=2, stop=383, step=3)\n",
    "\n",
    "for i in x_axis:\n",
    "    for j in y_axis:\n",
    "        bck1 = image1[(image1['x'] >= i) & (image1['x'] < i+4) & (image1['y'] >= j) & (image1['y'] < j+3)]\n",
    "        bck2 = image2[(image2['x'] >= i) & (image2['x'] < i+4) & (image2['y'] >= j) & (image2['y'] < j+3)]\n",
    "        bck3 = image3[(image3['x'] >= i) & (image3['x'] < i+4) & (image3['y'] >= j) & (image3['y'] < j+3)]\n",
    "        \n",
    "        dt1shape = bck1.shape[0]\n",
    "        dt2shape = bck2.shape[0]\n",
    "        dt3shape = bck3.shape[0]\n",
    "\n",
    "        if dt1shape != 0:\n",
    "            temp_train_image1 = bck1.sample(frac=0.8, replace=False)\n",
    "            test_1 = bck1.drop(temp_train_image1.index)\n",
    "            train_1 = temp_train_image1.sample(frac=0.8, replace=False)\n",
    "            val_1 = temp_train_image1.drop(train_1.index)\n",
    "            train_df = train_df.append(train_1)\n",
    "            val_df = val_df.append(val_1)\n",
    "            test_df = test_df.append(test_1)\n",
    "        \n",
    "        if dt2shape != 0:\n",
    "            temp_train_image2 = bck2.sample(frac=0.8, replace=False)\n",
    "            test_2 = bck2.drop(temp_train_image2.index)\n",
    "            train_2 = temp_train_image2.sample(frac=0.8, replace=False)\n",
    "            val_2 = temp_train_image2.drop(train_2.index)\n",
    "            train_df = train_df.append(train_2)\n",
    "            val_df = val_df.append(val_2)\n",
    "            test_df = test_df.append(test_2)\n",
    "        \n",
    "        if dt3shape != 0:\n",
    "            temp_train_image3 = bck3.sample(frac=0.8, replace=False)\n",
    "            test_3 = bck3.drop(temp_train_image3.index)\n",
    "            train_3 = temp_train_image3.sample(frac=0.8, replace=False)\n",
    "            val_3 = temp_train_image3.drop(train_3.index)\n",
    "            train_df = train_df.append(train_3)\n",
    "            val_df = val_df.append(val_3)\n",
    "            test_df = test_df.append(test_3)"
   ]
  },
  {
   "cell_type": "code",
   "execution_count": null,
   "metadata": {},
   "outputs": [],
   "source": [
    "print(f\"Final train dataframe after sampling from each region: {train_df.shape}\") \n",
    "print(f\"Final validation dataframe after sampling from each region: {val_df.shape}\") \n",
    "print(f\"Final test dataframe after sampling from each region: {test_df.shape}\")"
   ]
  },
  {
   "cell_type": "code",
   "execution_count": null,
   "metadata": {},
   "outputs": [],
   "source": [
    "X_train = train_df.drop('expert_label', axis=1)\n",
    "y_train = train_df['expert_label']\n",
    "\n",
    "X_val = val_df.drop('expert_label', axis=1)\n",
    "y_val = val_df['expert_label']\n",
    "\n",
    "X_test = test_df.drop('expert_label', axis=1)\n",
    "y_test = test_df['expert_label']"
   ]
  },
  {
   "cell_type": "markdown",
   "metadata": {},
   "source": [
    "# Part 2b"
   ]
  },
  {
   "cell_type": "code",
   "execution_count": null,
   "metadata": {},
   "outputs": [],
   "source": [
    "# split image1 into train and test dataframe\n",
    "train_img1, test_img1 = train_test_split(image1, test_size=0.3, random_state=42)\n",
    "print(train_img1.shape, test_img1.shape)"
   ]
  },
  {
   "cell_type": "code",
   "execution_count": null,
   "metadata": {},
   "outputs": [],
   "source": [
    "# split dataframe train_img1 to training set\n",
    "X_train_1 = train_img1.drop(\"expert_label\", axis=1)\n",
    "y_train_1 = train_img1[\"expert_label\"]\n",
    "\n",
    "# # split dataframe test_img1 to test set\n",
    "X_test_1 = test_img1.drop(\"expert_label\", axis=1)\n",
    "y_test_1 = test_img1[\"expert_label\"]\n",
    "\n",
    "print(X_train_1.shape, y_train_1.shape)\n",
    "print(X_test_1.shape, y_test_1.shape)"
   ]
  },
  {
   "cell_type": "code",
   "execution_count": null,
   "metadata": {},
   "outputs": [],
   "source": [
    "# split image1 training set and validation set\n",
    "X_train_1, X_val_1, y_train_1, y_val_1 = train_test_split(X_train_1, y_train_1, test_size=0.3, random_state=42)\n",
    "print(f\"Size of Image1 Validation Set: {X_val_1.shape} and {y_val_1.shape}\")"
   ]
  },
  {
   "cell_type": "code",
   "execution_count": null,
   "metadata": {},
   "outputs": [],
   "source": [
    "train_img2, test_img2 = train_test_split(image2, test_size = 0.3, random_state=42)\n",
    "print(train_img2.shape, test_img2.shape)"
   ]
  },
  {
   "cell_type": "code",
   "execution_count": null,
   "metadata": {},
   "outputs": [],
   "source": [
    "# split dataframe train_img2\n",
    "X_train_2 = train_img2.drop(\"expert_label\", axis=1)\n",
    "y_train_2 = train_img2[\"expert_label\"]\n",
    "\n",
    "# # split dataframe test_img2\n",
    "X_test_2 = train_img2.drop(\"expert_label\", axis=1)\n",
    "y_test_2 = train_img2[\"expert_label\"]\n",
    "\n",
    "print(X_train_2.shape, y_train_2.shape)\n",
    "print(X_test_2.shape, y_test_2.shape)"
   ]
  },
  {
   "cell_type": "code",
   "execution_count": null,
   "metadata": {},
   "outputs": [],
   "source": [
    "# split image2 training set and validation set\n",
    "X_train_2, X_val_2, y_train_2, y_val_2 = train_test_split(X_train_2, y_train_2, test_size=0.3, random_state=42)\n",
    "print(f\"Size of Image2 Validation Set: {X_val_2.shape} and {y_val_2.shape}\")"
   ]
  },
  {
   "cell_type": "code",
   "execution_count": null,
   "metadata": {},
   "outputs": [],
   "source": [
    "train_img3, test_img3 = train_test_split(image3, test_size = 0.3, random_state=42)\n",
    "print(train_img3.shape, test_img3.shape)"
   ]
  },
  {
   "cell_type": "code",
   "execution_count": null,
   "metadata": {},
   "outputs": [],
   "source": [
    "# split dataframe train_img3\n",
    "X_train_3 = train_img3.drop(\"expert_label\", axis=1)\n",
    "y_train_3 = train_img3[\"expert_label\"]\n",
    "\n",
    "# # split dataframe test_img3\n",
    "X_test_3 = test_img3.drop(\"expert_label\", axis=1)\n",
    "y_test_3 = test_img3[\"expert_label\"]\n",
    "\n",
    "print(X_train_3.shape, y_train_3.shape)\n",
    "print(X_test_3.shape, y_test_3.shape)"
   ]
  },
  {
   "cell_type": "code",
   "execution_count": null,
   "metadata": {},
   "outputs": [],
   "source": [
    "# split image3 training set and validation set\n",
    "X_train_3, X_val_3, y_train_3, y_val_3 = train_test_split(X_train_3, y_train_3, test_size=0.3, random_state=42)\n",
    "print(f\"Size of Image3 Validation Set: {X_val_3.shape} and {y_val_3.shape}\")"
   ]
  },
  {
   "cell_type": "code",
   "execution_count": null,
   "metadata": {},
   "outputs": [],
   "source": [
    "# combine all training set from three datasets so we can have a larger training set to train model\n",
    "X_train_all = X_train_1.append([X_train_2, X_train_3])\n",
    "y_train_all = y_train_1.append([y_train_2, y_train_3])\n",
    "\n",
    "print(X_train_all.shape)\n",
    "print(y_train_all.shape)"
   ]
  },
  {
   "cell_type": "code",
   "execution_count": null,
   "metadata": {},
   "outputs": [],
   "source": [
    "# train a logistic regression model on the training set\n",
    "from sklearn.linear_model import LogisticRegression\n",
    "\n",
    "# instantiate model\n",
    "lr = LogisticRegression()\n",
    "\n",
    "# fit model\n",
    "lr.fit(X_train_all, y_train_all)"
   ]
  },
  {
   "cell_type": "code",
   "execution_count": null,
   "metadata": {},
   "outputs": [],
   "source": [
    "X_val_all = X_val_1.append([X_val_2, X_val_3])\n",
    "y_val_all = y_val_1.append([y_val_2, y_val_3]).to_frame().replace({'unlabeled': 'not_cloud', 'cloud': 'not_cloud'})['expert_label']\n",
    "X_test_all = X_test_1.append([X_test_2, X_test_3])\n",
    "y_test_all = y_test_1.append([y_test_2, y_test_3]).to_frame().replace({'unlabeled': 'not_cloud', 'cloud': 'not_cloud'})['expert_label']\n",
    "\n",
    "print(X_val_all.shape)\n",
    "print(y_val_all.shape)\n",
    "print(X_test_all.shape)\n",
    "print(y_test_all.shape)"
   ]
  },
  {
   "cell_type": "code",
   "execution_count": null,
   "metadata": {},
   "outputs": [],
   "source": [
    "# make class predictions for the testing set\n",
    "y_pred_val = lr.predict(X_val_all)\n",
    "y_pred_test = lr.predict(X_test_all)"
   ]
  },
  {
   "cell_type": "code",
   "execution_count": null,
   "metadata": {},
   "outputs": [],
   "source": [
    "# classification accuracy\n",
    "from sklearn.metrics import accuracy_score\n",
    "print(accuracy_score(y_val_all, y_pred_val))\n",
    "print(accuracy_score(y_test_all, y_pred_test))"
   ]
  },
  {
   "cell_type": "markdown",
   "metadata": {},
   "source": [
    "# Part 2c "
   ]
  },
  {
   "cell_type": "code",
   "execution_count": 15,
   "metadata": {},
   "outputs": [
    {
     "data": {
      "text/plain": [
       "Text(0.5, 1.0, 'Simple Bar Graph of Feature Mean Differences')"
      ]
     },
     "execution_count": 15,
     "metadata": {},
     "output_type": "execute_result"
    },
    {
     "data": {
      "image/png": "[encoded data removed]",
      "text/plain": [
       "<Figure size 432x288 with 1 Axes>"
      ]
     },
     "metadata": {
      "needs_background": "light"
     },
     "output_type": "display_data"
    }
   ],
   "source": [
    "to_graph = not_cloud_data.mean() - cloud_data.mean()\n",
    "to_graph = to_graph[to_graph.index != 'x']\n",
    "to_graph = to_graph[to_graph.index != 'y']\n",
    "to_graph = to_graph.sort_values()\n",
    "sb.barplot(to_graph.index,to_graph.values)\n",
    "plt.xticks(rotation=45)\n",
    "plt.ylabel('Not Cloud - Cloud Data')\n",
    "plt.title('Simple Bar Graph of Feature Mean Differences')\n"
   ]
  },
  {
   "cell_type": "code",
   "execution_count": 16,
   "metadata": {},
   "outputs": [
    {
     "data": {
      "text/html": [
       "<div>\n",
       "<style scoped>\n",
       "    .dataframe tbody tr th:only-of-type {\n",
       "        vertical-align: middle;\n",
       "    }\n",
       "\n",
       "    .dataframe tbody tr th {\n",
       "        vertical-align: top;\n",
       "    }\n",
       "\n",
       "    .dataframe thead th {\n",
       "        text-align: right;\n",
       "    }\n",
       "</style>\n",
       "<table border=\"1\" class=\"dataframe\">\n",
       "  <thead>\n",
       "    <tr style=\"text-align: right;\">\n",
       "      <th></th>\n",
       "      <th>F</th>\n",
       "      <th>P_value</th>\n",
       "    </tr>\n",
       "  </thead>\n",
       "  <tbody>\n",
       "    <tr>\n",
       "      <th>NDAI</th>\n",
       "      <td>207704.644016</td>\n",
       "      <td>0.000000e+00</td>\n",
       "    </tr>\n",
       "    <tr>\n",
       "      <th>SD</th>\n",
       "      <td>38265.372810</td>\n",
       "      <td>0.000000e+00</td>\n",
       "    </tr>\n",
       "    <tr>\n",
       "      <th>CORR</th>\n",
       "      <td>116670.701958</td>\n",
       "      <td>0.000000e+00</td>\n",
       "    </tr>\n",
       "    <tr>\n",
       "      <th>rad_angle_DF</th>\n",
       "      <td>13967.728120</td>\n",
       "      <td>0.000000e+00</td>\n",
       "    </tr>\n",
       "    <tr>\n",
       "      <th>rad_angle_CF</th>\n",
       "      <td>599.931509</td>\n",
       "      <td>2.769065e-132</td>\n",
       "    </tr>\n",
       "    <tr>\n",
       "      <th>rad_angle_BF</th>\n",
       "      <td>17456.921592</td>\n",
       "      <td>0.000000e+00</td>\n",
       "    </tr>\n",
       "    <tr>\n",
       "      <th>rad_angle_AF</th>\n",
       "      <td>38463.670566</td>\n",
       "      <td>0.000000e+00</td>\n",
       "    </tr>\n",
       "    <tr>\n",
       "      <th>rad_angle_AN</th>\n",
       "      <td>45387.509114</td>\n",
       "      <td>0.000000e+00</td>\n",
       "    </tr>\n",
       "  </tbody>\n",
       "</table>\n",
       "</div>"
      ],
      "text/plain": [
       "                          F        P_value\n",
       "NDAI          207704.644016   0.000000e+00\n",
       "SD             38265.372810   0.000000e+00\n",
       "CORR          116670.701958   0.000000e+00\n",
       "rad_angle_DF   13967.728120   0.000000e+00\n",
       "rad_angle_CF     599.931509  2.769065e-132\n",
       "rad_angle_BF   17456.921592   0.000000e+00\n",
       "rad_angle_AF   38463.670566   0.000000e+00\n",
       "rad_angle_AN   45387.509114   0.000000e+00"
      ]
     },
     "execution_count": 16,
     "metadata": {},
     "output_type": "execute_result"
    }
   ],
   "source": [
    "#Anova Analysis \n",
    "\n",
    "from scipy import stats\n",
    "cloud = cloud_data.drop(columns = ['expert_label','x','y'])\n",
    "not_cloud = not_cloud_data.drop(columns = ['expert_label','x','y'\n",
    "                                          ])\n",
    "x = stats.f_oneway(cloud, not_cloud)\n",
    "df = pd.DataFrame({'F':x[0],'P_value':x[1]})\n",
    "df.index = cloud.columns\n",
    "df"
   ]
  },
  {
   "cell_type": "code",
   "execution_count": 17,
   "metadata": {},
   "outputs": [
    {
     "name": "stdout",
     "output_type": "stream",
     "text": [
      "[ True  True  True False False False False False]\n",
      "[1 1 1 2 3 5 6 4]\n"
     ]
    },
    {
     "data": {
      "text/html": [
       "<div>\n",
       "<style scoped>\n",
       "    .dataframe tbody tr th:only-of-type {\n",
       "        vertical-align: middle;\n",
       "    }\n",
       "\n",
       "    .dataframe tbody tr th {\n",
       "        vertical-align: top;\n",
       "    }\n",
       "\n",
       "    .dataframe thead th {\n",
       "        text-align: right;\n",
       "    }\n",
       "</style>\n",
       "<table border=\"1\" class=\"dataframe\">\n",
       "  <thead>\n",
       "    <tr style=\"text-align: right;\">\n",
       "      <th></th>\n",
       "      <th>column</th>\n",
       "      <th>support</th>\n",
       "      <th>ranking</th>\n",
       "    </tr>\n",
       "  </thead>\n",
       "  <tbody>\n",
       "    <tr>\n",
       "      <th>0</th>\n",
       "      <td>NDAI</td>\n",
       "      <td>True</td>\n",
       "      <td>1</td>\n",
       "    </tr>\n",
       "    <tr>\n",
       "      <th>1</th>\n",
       "      <td>SD</td>\n",
       "      <td>True</td>\n",
       "      <td>1</td>\n",
       "    </tr>\n",
       "    <tr>\n",
       "      <th>2</th>\n",
       "      <td>CORR</td>\n",
       "      <td>True</td>\n",
       "      <td>1</td>\n",
       "    </tr>\n",
       "    <tr>\n",
       "      <th>3</th>\n",
       "      <td>rad_angle_DF</td>\n",
       "      <td>False</td>\n",
       "      <td>2</td>\n",
       "    </tr>\n",
       "    <tr>\n",
       "      <th>4</th>\n",
       "      <td>rad_angle_CF</td>\n",
       "      <td>False</td>\n",
       "      <td>3</td>\n",
       "    </tr>\n",
       "    <tr>\n",
       "      <th>5</th>\n",
       "      <td>rad_angle_BF</td>\n",
       "      <td>False</td>\n",
       "      <td>5</td>\n",
       "    </tr>\n",
       "    <tr>\n",
       "      <th>6</th>\n",
       "      <td>rad_angle_AF</td>\n",
       "      <td>False</td>\n",
       "      <td>6</td>\n",
       "    </tr>\n",
       "    <tr>\n",
       "      <th>7</th>\n",
       "      <td>rad_angle_AN</td>\n",
       "      <td>False</td>\n",
       "      <td>4</td>\n",
       "    </tr>\n",
       "  </tbody>\n",
       "</table>\n",
       "</div>"
      ],
      "text/plain": [
       "         column  support  ranking\n",
       "0          NDAI     True        1\n",
       "1            SD     True        1\n",
       "2          CORR     True        1\n",
       "3  rad_angle_DF    False        2\n",
       "4  rad_angle_CF    False        3\n",
       "5  rad_angle_BF    False        5\n",
       "6  rad_angle_AF    False        6\n",
       "7  rad_angle_AN    False        4"
      ]
     },
     "execution_count": 17,
     "metadata": {},
     "output_type": "execute_result"
    }
   ],
   "source": [
    "#Using RFE \n",
    "\n",
    "from sklearn import datasets\n",
    "from sklearn.feature_selection import RFE\n",
    "from sklearn.linear_model import LogisticRegression\n",
    "# create a base classifier used to evaluate a subset of attributes\n",
    "mod_data = data.drop(columns = ['x','y'])\n",
    "model = LogisticRegression()\n",
    "# create the RFE model and select 3 attributes\n",
    "rfe = RFE(model, 3)\n",
    "rfe = rfe.fit(mod_data.drop(columns = 'expert_label'), mod_data['expert_label'])\n",
    "# summarize the selection of the attributes\n",
    "print(rfe.support_)\n",
    "print(rfe.ranking_)\n",
    "rankings = pd.DataFrame({'column':mod_data.drop(columns='expert_label').columns,'support':rfe.support_,'ranking':rfe.ranking_})\n",
    "rankings"
   ]
  },
  {
   "cell_type": "markdown",
   "metadata": {},
   "source": [
    "# Part 2d"
   ]
  },
  {
   "cell_type": "code",
   "execution_count": 10,
   "metadata": {},
   "outputs": [],
   "source": [
    "from sklearn.model_selection import train_test_split\n",
    "\n",
    "data = image1.append(image2).append(image3)\n",
    "data = data[data['expert_label'] != 'unlabeled']\n",
    "cloud_data = data[data['expert_label'] == 'cloud']\n",
    "not_cloud_data = data[data['expert_label'] == 'not_cloud']\n",
    "data['expert_label'].replace('cloud',1,inplace=True)\n",
    "data['expert_label'].replace('not_cloud',0,inplace=True)\n",
    "a_train, a_test, b_train, b_test = train_test_split(data.drop(columns='expert_label'), data['expert_label'], test_size=0.33, random_state=42)\n",
    "data_train = a_train\n",
    "data_train['expert_label'] = b_train \n",
    "\n",
    "\n",
    "from sklearn.model_selection import StratifiedKFold\n",
    "def CVMethodOne(n_split, X, y):\n",
    "    skf = StratifiedKFold(n_splits=n_split, shuffle=False)\n",
    "    skf.get_n_splits(X, y)\n",
    "    X_train  = [] \n",
    "    Y_train = [] \n",
    "    X_test = [] \n",
    "    Y_test = []\n",
    "    for train_idx, test_idx in skf.split(X, y):\n",
    "        X_sstrain, X_sstest = X.iloc[train_idx], X.iloc[test_idx]\n",
    "        y_sstrain, y_sstest = y.iloc[train_idx], y.iloc[test_idx]\n",
    "        X_train.append(X_sstrain)\n",
    "        X_test.append(X_sstest)\n",
    "        Y_test.append(y_sstest)\n",
    "        Y_train.append(y_sstrain)\n",
    "    return [X_train,Y_train,X_test,Y_test]\n",
    "\n",
    "def CVMethodTwo():\n",
    "    train_df = pd.DataFrame()\n",
    "    val_df = pd.DataFrame()\n",
    "    test_df = pd.DataFrame()\n",
    "\n",
    "    x_axis = np.arange(start=65, stop=369, step=4)\n",
    "    y_axis = np.arange(start=2, stop=383, step=3)\n",
    "\n",
    "    for i in x_axis:\n",
    "        for j in y_axis:\n",
    "            bck1 = image1[(image1['x'] >= i) & (image1['x'] < i+4) & (image1['y'] >= j) & (image1['y'] < j+3)]\n",
    "            bck2 = image2[(image2['x'] >= i) & (image2['x'] < i+4) & (image2['y'] >= j) & (image2['y'] < j+3)]\n",
    "            bck3 = image3[(image3['x'] >= i) & (image3['x'] < i+4) & (image3['y'] >= j) & (image3['y'] < j+3)]\n",
    "\n",
    "            dt1shape = bck1.shape[0]\n",
    "            dt2shape = bck2.shape[0]\n",
    "            dt3shape = bck3.shape[0]\n",
    "\n",
    "            if dt1shape != 0:\n",
    "                temp_train_image1 = bck1.sample(frac=0.8, replace=False)\n",
    "                test_1 = bck1.drop(temp_train_image1.index)\n",
    "                train_1 = temp_train_image1.sample(frac=0.8, replace=False)\n",
    "                val_1 = temp_train_image1.drop(train_1.index)\n",
    "                train_df = train_df.append(train_1)\n",
    "                val_df = val_df.append(val_1)\n",
    "                test_df = test_df.append(test_1)\n",
    "            if dt2shape != 0:\n",
    "                temp_train_image2 = bck2.sample(frac=0.8, replace=False)\n",
    "                test_2 = bck2.drop(temp_train_image2.index)\n",
    "                train_2 = temp_train_image2.sample(frac=0.8, replace=False)\n",
    "                val_2 = temp_train_image2.drop(train_2.index)\n",
    "                train_df = train_df.append(train_2)\n",
    "                val_df = val_df.append(val_2)\n",
    "                test_df = test_df.append(test_2)\n",
    "\n",
    "            if dt3shape != 0:\n",
    "                temp_train_image3 = bck3.sample(frac=0.8, replace=False)\n",
    "                test_3 = bck3.drop(temp_train_image3.index)\n",
    "                train_3 = temp_train_image3.sample(frac=0.8, replace=False)\n",
    "                val_3 = temp_train_image3.drop(train_3.index)\n",
    "                train_df = train_df.append(train_3)\n",
    "                val_df = val_df.append(val_3)\n",
    "                test_df = test_df.append(test_3)\n",
    "    return [pd.concat([train_df,val_df]),test_df]"
   ]
  },
  {
   "cell_type": "code",
   "execution_count": 11,
   "metadata": {},
   "outputs": [],
   "source": [
    "from random import randrange \n",
    "from sklearn.model_selection import KFold\n",
    "import sklearn.metrics as metrics\n",
    "def CVgeneric(classifier,training_set,k,loss_function):\n",
    "    x = KFold(n_splits=k)\n",
    "    d = x.split(training_set.index)\n",
    "    df = {}\n",
    "    df['Accuracy'] = []\n",
    "    df['Fold'] = [] \n",
    "    to_plot_data = [] \n",
    "    k = 1\n",
    "    for train,test in d:\n",
    "        train_data = training_set.iloc[train]\n",
    "        test_data = training_set.iloc[test]\n",
    "        mod = classifier.fit(X=train_data.drop(columns='expert_label'),y=train_data['expert_label'])\n",
    "        pred = classifier.predict(test_data.drop(columns='expert_label'))\n",
    "        truth = test_data['expert_label']\n",
    "        df['Accuracy'].append(classifier.score(test_data.drop(columns='expert_label'),test_data['expert_label']))\n",
    "        df['Fold'].append(k)\n",
    "        k += 1\n",
    "    mod = classifier.fit(X=training_set.drop(columns='expert_label'),y=training_set['expert_label'])\n",
    "    pred = classifier.predict(training_set.drop(columns='expert_label'))\n",
    "    probs = classifier.predict_proba(training_set.drop(columns='expert_label'))\n",
    "    preds = probs[:,1]\n",
    "    fpr, tpr, threshold = metrics.roc_curve(training_set['expert_label'], preds)\n",
    "    roc_auc = metrics.auc(fpr, tpr)\n",
    "    df['Accuracy'].append(np.mean(df['Accuracy']))\n",
    "    df['Fold'].append('Average')\n",
    "    return [pd.DataFrame.from_dict(df),[fpr,tpr,threshold,roc_auc]]\n",
    "    \n"
   ]
  },
  {
   "cell_type": "code",
   "execution_count": 27,
   "metadata": {},
   "outputs": [],
   "source": [
    "def CVgenericMethodOne(classifier,training_set,k,loss_function):\n",
    "    x = KFold(n_splits=k)\n",
    "    d = x.split(training_set.index)\n",
    "    df = {}\n",
    "    df['Accuracy'] = []\n",
    "    df['Fold'] = [] \n",
    "    iterations = CVMethodOne(k,training_set.drop(columns='expert_label'),training_set['expert_label'])\n",
    "    for i in range(0,len(iterations[0])):\n",
    "        train_x = iterations[0][i]\n",
    "        train_y = iterations[1][i]\n",
    "        test_x = iterations[2][i]\n",
    "        test_y = iterations[3][i]\n",
    "        mod = classifier.fit(X=train_x,y=train_y)\n",
    "        pred = classifier.predict(test_x)\n",
    "        df['Accuracy'].append(classifier.score(test_x,test_y))\n",
    "        df['Fold'].append(i+1)\n",
    "        #loss = loss_function(train_data)\n",
    "    mod = classifier.fit(X=training_set.drop(columns='expert_label'),y=training_set['expert_label'])\n",
    "    pred = classifier.predict(training_set.drop(columns='expert_label'))\n",
    "    probs = classifier.predict_proba(training_set.drop(columns='expert_label'))\n",
    "    preds = probs[:,1]\n",
    "    fpr, tpr, threshold = metrics.roc_curve(training_set['expert_label'], preds)\n",
    "    roc_auc = metrics.auc(fpr, tpr)\n",
    "    df['Accuracy'].append(np.mean(df['Accuracy']))\n",
    "    df['Fold'].append('Average')\n",
    "    return [pd.DataFrame.from_dict(df),[fpr,tpr,threshold,roc_auc]]\n"
   ]
  },
  {
   "cell_type": "code",
   "execution_count": 14,
   "metadata": {},
   "outputs": [],
   "source": [
    "def CVgenericMethodTwo(classifier,training_set,k,loss_function):\n",
    "    x = CVMethodTwo()\n",
    "    return CVgeneric(classifier,x[0],k,loss_function)\n",
    "ab = CVMethodTwo()"
   ]
  },
  {
   "cell_type": "markdown",
   "metadata": {},
   "source": [
    "# Part 3a and 3b\n"
   ]
  },
  {
   "cell_type": "markdown",
   "metadata": {},
   "source": [
    "### Initial Data Setup"
   ]
  },
  {
   "cell_type": "code",
   "execution_count": 35,
   "metadata": {},
   "outputs": [],
   "source": [
    "data = image1.append(image2).append(image3)\n",
    "data = data[data['expert_label'] != 'unlabeled']\n",
    "cloud_data = data[data['expert_label'] == 'cloud']\n",
    "not_cloud_data = data[data['expert_label'] == 'not_cloud']\n",
    "data['expert_label'].replace('cloud',1,inplace=True)\n",
    "data['expert_label'].replace('not_cloud',0,inplace=True)\n",
    "a_train, a_test, b_train, b_test = train_test_split(data.drop(columns='expert_label'), data['expert_label'], test_size=0.33, random_state=42)\n",
    "data_train = a_train\n",
    "data_train['expert_label'] = b_train \n",
    "data_test_x = a_test\n",
    "data_test_y = b_test\n",
    "ab = data"
   ]
  },
  {
   "cell_type": "markdown",
   "metadata": {},
   "source": [
    "## KNN "
   ]
  },
  {
   "cell_type": "code",
   "execution_count": 25,
   "metadata": {},
   "outputs": [
    {
     "data": {
      "text/html": [
       "<div>\n",
       "<style scoped>\n",
       "    .dataframe tbody tr th:only-of-type {\n",
       "        vertical-align: middle;\n",
       "    }\n",
       "\n",
       "    .dataframe tbody tr th {\n",
       "        vertical-align: top;\n",
       "    }\n",
       "\n",
       "    .dataframe thead th {\n",
       "        text-align: right;\n",
       "    }\n",
       "</style>\n",
       "<table border=\"1\" class=\"dataframe\">\n",
       "  <thead>\n",
       "    <tr style=\"text-align: right;\">\n",
       "      <th></th>\n",
       "      <th>Accuracy</th>\n",
       "      <th>Fold</th>\n",
       "    </tr>\n",
       "  </thead>\n",
       "  <tbody>\n",
       "    <tr>\n",
       "      <th>0</th>\n",
       "      <td>0.998985</td>\n",
       "      <td>1</td>\n",
       "    </tr>\n",
       "    <tr>\n",
       "      <th>1</th>\n",
       "      <td>0.895129</td>\n",
       "      <td>2</td>\n",
       "    </tr>\n",
       "    <tr>\n",
       "      <th>2</th>\n",
       "      <td>0.646586</td>\n",
       "      <td>3</td>\n",
       "    </tr>\n",
       "    <tr>\n",
       "      <th>3</th>\n",
       "      <td>0.926330</td>\n",
       "      <td>4</td>\n",
       "    </tr>\n",
       "    <tr>\n",
       "      <th>4</th>\n",
       "      <td>0.999193</td>\n",
       "      <td>5</td>\n",
       "    </tr>\n",
       "    <tr>\n",
       "      <th>5</th>\n",
       "      <td>0.893245</td>\n",
       "      <td>Average</td>\n",
       "    </tr>\n",
       "  </tbody>\n",
       "</table>\n",
       "</div>"
      ],
      "text/plain": [
       "   Accuracy     Fold\n",
       "0  0.998985        1\n",
       "1  0.895129        2\n",
       "2  0.646586        3\n",
       "3  0.926330        4\n",
       "4  0.999193        5\n",
       "5  0.893245  Average"
      ]
     },
     "execution_count": 25,
     "metadata": {},
     "output_type": "execute_result"
    }
   ],
   "source": [
    "#KNN Trivial Splitting \n",
    "neigh = KNeighborsClassifier(n_neighbors=3)\n",
    "p = CVgeneric(neigh,ab,5,None)\n",
    "x = p[1]\n",
    "\n",
    "p[0]"
   ]
  },
  {
   "cell_type": "code",
   "execution_count": 29,
   "metadata": {},
   "outputs": [
    {
     "data": {
      "text/html": [
       "<div>\n",
       "<style scoped>\n",
       "    .dataframe tbody tr th:only-of-type {\n",
       "        vertical-align: middle;\n",
       "    }\n",
       "\n",
       "    .dataframe tbody tr th {\n",
       "        vertical-align: top;\n",
       "    }\n",
       "\n",
       "    .dataframe thead th {\n",
       "        text-align: right;\n",
       "    }\n",
       "</style>\n",
       "<table border=\"1\" class=\"dataframe\">\n",
       "  <thead>\n",
       "    <tr style=\"text-align: right;\">\n",
       "      <th></th>\n",
       "      <th>Accuracy</th>\n",
       "      <th>Fold</th>\n",
       "    </tr>\n",
       "  </thead>\n",
       "  <tbody>\n",
       "    <tr>\n",
       "      <th>0</th>\n",
       "      <td>0.896493</td>\n",
       "      <td>1</td>\n",
       "    </tr>\n",
       "    <tr>\n",
       "      <th>1</th>\n",
       "      <td>0.892920</td>\n",
       "      <td>2</td>\n",
       "    </tr>\n",
       "    <tr>\n",
       "      <th>2</th>\n",
       "      <td>0.892997</td>\n",
       "      <td>3</td>\n",
       "    </tr>\n",
       "    <tr>\n",
       "      <th>3</th>\n",
       "      <td>0.891556</td>\n",
       "      <td>4</td>\n",
       "    </tr>\n",
       "    <tr>\n",
       "      <th>4</th>\n",
       "      <td>0.892255</td>\n",
       "      <td>5</td>\n",
       "    </tr>\n",
       "    <tr>\n",
       "      <th>5</th>\n",
       "      <td>0.893244</td>\n",
       "      <td>Average</td>\n",
       "    </tr>\n",
       "  </tbody>\n",
       "</table>\n",
       "</div>"
      ],
      "text/plain": [
       "   Accuracy     Fold\n",
       "0  0.896493        1\n",
       "1  0.892920        2\n",
       "2  0.892997        3\n",
       "3  0.891556        4\n",
       "4  0.892255        5\n",
       "5  0.893244  Average"
      ]
     },
     "execution_count": 29,
     "metadata": {},
     "output_type": "execute_result"
    }
   ],
   "source": [
    "# KNN Method One Splitting \n",
    "neigh = KNeighborsClassifier(n_neighbors=3)\n",
    "p = CVgenericMethodOne(neigh,data_train.drop(columns=['x','y']).loc[:,['expert_label','NDAI','SD','CORR']],5,None)\n",
    "x = p[1]\n",
    "\n",
    "p[0]"
   ]
  },
  {
   "cell_type": "code",
   "execution_count": 30,
   "metadata": {},
   "outputs": [
    {
     "ename": "KeyboardInterrupt",
     "evalue": "",
     "output_type": "error",
     "traceback": [
      "\u001b[0;31m---------------------------------------------------------------------------\u001b[0m",
      "\u001b[0;31mKeyboardInterrupt\u001b[0m                         Traceback (most recent call last)",
      "\u001b[0;32m<ipython-input-30-6b6b3ba6a546>\u001b[0m in \u001b[0;36m<module>\u001b[0;34m\u001b[0m\n\u001b[1;32m      1\u001b[0m \u001b[0;31m# Knn Method Two Splitting\u001b[0m\u001b[0;34m\u001b[0m\u001b[0;34m\u001b[0m\u001b[0;34m\u001b[0m\u001b[0m\n\u001b[0;32m----> 2\u001b[0;31m \u001b[0mp\u001b[0m \u001b[0;34m=\u001b[0m \u001b[0mCVgenericMethodTwo\u001b[0m\u001b[0;34m(\u001b[0m\u001b[0mneigh\u001b[0m\u001b[0;34m,\u001b[0m\u001b[0mab\u001b[0m\u001b[0;34m,\u001b[0m\u001b[0;36m5\u001b[0m\u001b[0;34m,\u001b[0m\u001b[0;32mNone\u001b[0m\u001b[0;34m)\u001b[0m\u001b[0;34m\u001b[0m\u001b[0;34m\u001b[0m\u001b[0m\n\u001b[0m\u001b[1;32m      3\u001b[0m \u001b[0mx\u001b[0m \u001b[0;34m=\u001b[0m \u001b[0mp\u001b[0m\u001b[0;34m[\u001b[0m\u001b[0;36m1\u001b[0m\u001b[0;34m]\u001b[0m\u001b[0;34m\u001b[0m\u001b[0;34m\u001b[0m\u001b[0m\n\u001b[1;32m      4\u001b[0m \u001b[0;34m\u001b[0m\u001b[0m\n\u001b[1;32m      5\u001b[0m \u001b[0mplt\u001b[0m\u001b[0;34m.\u001b[0m\u001b[0mtitle\u001b[0m\u001b[0;34m(\u001b[0m\u001b[0;34m'Receiver Operating Characteristic'\u001b[0m\u001b[0;34m)\u001b[0m\u001b[0;34m\u001b[0m\u001b[0;34m\u001b[0m\u001b[0m\n",
      "\u001b[0;32m<ipython-input-14-99a1d62c9631>\u001b[0m in \u001b[0;36mCVgenericMethodTwo\u001b[0;34m(classifier, training_set, k, loss_function)\u001b[0m\n\u001b[1;32m      1\u001b[0m \u001b[0;32mdef\u001b[0m \u001b[0mCVgenericMethodTwo\u001b[0m\u001b[0;34m(\u001b[0m\u001b[0mclassifier\u001b[0m\u001b[0;34m,\u001b[0m\u001b[0mtraining_set\u001b[0m\u001b[0;34m,\u001b[0m\u001b[0mk\u001b[0m\u001b[0;34m,\u001b[0m\u001b[0mloss_function\u001b[0m\u001b[0;34m)\u001b[0m\u001b[0;34m:\u001b[0m\u001b[0;34m\u001b[0m\u001b[0;34m\u001b[0m\u001b[0m\n\u001b[0;32m----> 2\u001b[0;31m     \u001b[0mx\u001b[0m \u001b[0;34m=\u001b[0m \u001b[0mCVMethodTwo\u001b[0m\u001b[0;34m(\u001b[0m\u001b[0;34m)\u001b[0m\u001b[0;34m\u001b[0m\u001b[0;34m\u001b[0m\u001b[0m\n\u001b[0m\u001b[1;32m      3\u001b[0m     \u001b[0;32mreturn\u001b[0m \u001b[0mCVgeneric\u001b[0m\u001b[0;34m(\u001b[0m\u001b[0mclassifier\u001b[0m\u001b[0;34m,\u001b[0m\u001b[0mx\u001b[0m\u001b[0;34m[\u001b[0m\u001b[0;36m0\u001b[0m\u001b[0;34m]\u001b[0m\u001b[0;34m,\u001b[0m\u001b[0mk\u001b[0m\u001b[0;34m,\u001b[0m\u001b[0mloss_function\u001b[0m\u001b[0;34m)\u001b[0m\u001b[0;34m\u001b[0m\u001b[0;34m\u001b[0m\u001b[0m\n\u001b[1;32m      4\u001b[0m \u001b[0mab\u001b[0m \u001b[0;34m=\u001b[0m \u001b[0mCVMethodTwo\u001b[0m\u001b[0;34m(\u001b[0m\u001b[0;34m)\u001b[0m\u001b[0;34m\u001b[0m\u001b[0;34m\u001b[0m\u001b[0m\n",
      "\u001b[0;32m<ipython-input-10-d653ab4095be>\u001b[0m in \u001b[0;36mCVMethodTwo\u001b[0;34m()\u001b[0m\n\u001b[1;32m     39\u001b[0m     \u001b[0;32mfor\u001b[0m \u001b[0mi\u001b[0m \u001b[0;32min\u001b[0m \u001b[0mx_axis\u001b[0m\u001b[0;34m:\u001b[0m\u001b[0;34m\u001b[0m\u001b[0;34m\u001b[0m\u001b[0m\n\u001b[1;32m     40\u001b[0m         \u001b[0;32mfor\u001b[0m \u001b[0mj\u001b[0m \u001b[0;32min\u001b[0m \u001b[0my_axis\u001b[0m\u001b[0;34m:\u001b[0m\u001b[0;34m\u001b[0m\u001b[0;34m\u001b[0m\u001b[0m\n\u001b[0;32m---> 41\u001b[0;31m             \u001b[0mbck1\u001b[0m \u001b[0;34m=\u001b[0m \u001b[0mimage1\u001b[0m\u001b[0;34m[\u001b[0m\u001b[0;34m(\u001b[0m\u001b[0mimage1\u001b[0m\u001b[0;34m[\u001b[0m\u001b[0;34m'x'\u001b[0m\u001b[0;34m]\u001b[0m \u001b[0;34m>=\u001b[0m \u001b[0mi\u001b[0m\u001b[0;34m)\u001b[0m \u001b[0;34m&\u001b[0m \u001b[0;34m(\u001b[0m\u001b[0mimage1\u001b[0m\u001b[0;34m[\u001b[0m\u001b[0;34m'x'\u001b[0m\u001b[0;34m]\u001b[0m \u001b[0;34m<\u001b[0m \u001b[0mi\u001b[0m\u001b[0;34m+\u001b[0m\u001b[0;36m4\u001b[0m\u001b[0;34m)\u001b[0m \u001b[0;34m&\u001b[0m \u001b[0;34m(\u001b[0m\u001b[0mimage1\u001b[0m\u001b[0;34m[\u001b[0m\u001b[0;34m'y'\u001b[0m\u001b[0;34m]\u001b[0m \u001b[0;34m>=\u001b[0m \u001b[0mj\u001b[0m\u001b[0;34m)\u001b[0m \u001b[0;34m&\u001b[0m \u001b[0;34m(\u001b[0m\u001b[0mimage1\u001b[0m\u001b[0;34m[\u001b[0m\u001b[0;34m'y'\u001b[0m\u001b[0;34m]\u001b[0m \u001b[0;34m<\u001b[0m \u001b[0mj\u001b[0m\u001b[0;34m+\u001b[0m\u001b[0;36m3\u001b[0m\u001b[0;34m)\u001b[0m\u001b[0;34m]\u001b[0m\u001b[0;34m\u001b[0m\u001b[0;34m\u001b[0m\u001b[0m\n\u001b[0m\u001b[1;32m     42\u001b[0m             \u001b[0mbck2\u001b[0m \u001b[0;34m=\u001b[0m \u001b[0mimage2\u001b[0m\u001b[0;34m[\u001b[0m\u001b[0;34m(\u001b[0m\u001b[0mimage2\u001b[0m\u001b[0;34m[\u001b[0m\u001b[0;34m'x'\u001b[0m\u001b[0;34m]\u001b[0m \u001b[0;34m>=\u001b[0m \u001b[0mi\u001b[0m\u001b[0;34m)\u001b[0m \u001b[0;34m&\u001b[0m \u001b[0;34m(\u001b[0m\u001b[0mimage2\u001b[0m\u001b[0;34m[\u001b[0m\u001b[0;34m'x'\u001b[0m\u001b[0;34m]\u001b[0m \u001b[0;34m<\u001b[0m \u001b[0mi\u001b[0m\u001b[0;34m+\u001b[0m\u001b[0;36m4\u001b[0m\u001b[0;34m)\u001b[0m \u001b[0;34m&\u001b[0m \u001b[0;34m(\u001b[0m\u001b[0mimage2\u001b[0m\u001b[0;34m[\u001b[0m\u001b[0;34m'y'\u001b[0m\u001b[0;34m]\u001b[0m \u001b[0;34m>=\u001b[0m \u001b[0mj\u001b[0m\u001b[0;34m)\u001b[0m \u001b[0;34m&\u001b[0m \u001b[0;34m(\u001b[0m\u001b[0mimage2\u001b[0m\u001b[0;34m[\u001b[0m\u001b[0;34m'y'\u001b[0m\u001b[0;34m]\u001b[0m \u001b[0;34m<\u001b[0m \u001b[0mj\u001b[0m\u001b[0;34m+\u001b[0m\u001b[0;36m3\u001b[0m\u001b[0;34m)\u001b[0m\u001b[0;34m]\u001b[0m\u001b[0;34m\u001b[0m\u001b[0;34m\u001b[0m\u001b[0m\n\u001b[1;32m     43\u001b[0m             \u001b[0mbck3\u001b[0m \u001b[0;34m=\u001b[0m \u001b[0mimage3\u001b[0m\u001b[0;34m[\u001b[0m\u001b[0;34m(\u001b[0m\u001b[0mimage3\u001b[0m\u001b[0;34m[\u001b[0m\u001b[0;34m'x'\u001b[0m\u001b[0;34m]\u001b[0m \u001b[0;34m>=\u001b[0m \u001b[0mi\u001b[0m\u001b[0;34m)\u001b[0m \u001b[0;34m&\u001b[0m \u001b[0;34m(\u001b[0m\u001b[0mimage3\u001b[0m\u001b[0;34m[\u001b[0m\u001b[0;34m'x'\u001b[0m\u001b[0;34m]\u001b[0m \u001b[0;34m<\u001b[0m \u001b[0mi\u001b[0m\u001b[0;34m+\u001b[0m\u001b[0;36m4\u001b[0m\u001b[0;34m)\u001b[0m \u001b[0;34m&\u001b[0m \u001b[0;34m(\u001b[0m\u001b[0mimage3\u001b[0m\u001b[0;34m[\u001b[0m\u001b[0;34m'y'\u001b[0m\u001b[0;34m]\u001b[0m \u001b[0;34m>=\u001b[0m \u001b[0mj\u001b[0m\u001b[0;34m)\u001b[0m \u001b[0;34m&\u001b[0m \u001b[0;34m(\u001b[0m\u001b[0mimage3\u001b[0m\u001b[0;34m[\u001b[0m\u001b[0;34m'y'\u001b[0m\u001b[0;34m]\u001b[0m \u001b[0;34m<\u001b[0m \u001b[0mj\u001b[0m\u001b[0;34m+\u001b[0m\u001b[0;36m3\u001b[0m\u001b[0;34m)\u001b[0m\u001b[0;34m]\u001b[0m\u001b[0;34m\u001b[0m\u001b[0;34m\u001b[0m\u001b[0m\n",
      "\u001b[0;32m~/anaconda3/lib/python3.7/site-packages/pandas/core/ops.py\u001b[0m in \u001b[0;36mwrapper\u001b[0;34m(self, other, axis)\u001b[0m\n\u001b[1;32m   1281\u001b[0m \u001b[0;34m\u001b[0m\u001b[0m\n\u001b[1;32m   1282\u001b[0m             \u001b[0;32mwith\u001b[0m \u001b[0mnp\u001b[0m\u001b[0;34m.\u001b[0m\u001b[0merrstate\u001b[0m\u001b[0;34m(\u001b[0m\u001b[0mall\u001b[0m\u001b[0;34m=\u001b[0m\u001b[0;34m'ignore'\u001b[0m\u001b[0;34m)\u001b[0m\u001b[0;34m:\u001b[0m\u001b[0;34m\u001b[0m\u001b[0;34m\u001b[0m\u001b[0m\n\u001b[0;32m-> 1283\u001b[0;31m                 \u001b[0mres\u001b[0m \u001b[0;34m=\u001b[0m \u001b[0mna_op\u001b[0m\u001b[0;34m(\u001b[0m\u001b[0mvalues\u001b[0m\u001b[0;34m,\u001b[0m \u001b[0mother\u001b[0m\u001b[0;34m)\u001b[0m\u001b[0;34m\u001b[0m\u001b[0;34m\u001b[0m\u001b[0m\n\u001b[0m\u001b[1;32m   1284\u001b[0m             \u001b[0;32mif\u001b[0m \u001b[0mis_scalar\u001b[0m\u001b[0;34m(\u001b[0m\u001b[0mres\u001b[0m\u001b[0;34m)\u001b[0m\u001b[0;34m:\u001b[0m\u001b[0;34m\u001b[0m\u001b[0;34m\u001b[0m\u001b[0m\n\u001b[1;32m   1285\u001b[0m                 raise TypeError('Could not compare {typ} type with Series'\n",
      "\u001b[0;32m~/anaconda3/lib/python3.7/site-packages/pandas/core/ops.py\u001b[0m in \u001b[0;36mna_op\u001b[0;34m(x, y)\u001b[0m\n\u001b[1;32m   1143\u001b[0m             \u001b[0mresult\u001b[0m \u001b[0;34m=\u001b[0m \u001b[0m_comp_method_OBJECT_ARRAY\u001b[0m\u001b[0;34m(\u001b[0m\u001b[0mop\u001b[0m\u001b[0;34m,\u001b[0m \u001b[0mx\u001b[0m\u001b[0;34m,\u001b[0m \u001b[0my\u001b[0m\u001b[0;34m)\u001b[0m\u001b[0;34m\u001b[0m\u001b[0;34m\u001b[0m\u001b[0m\n\u001b[1;32m   1144\u001b[0m \u001b[0;34m\u001b[0m\u001b[0m\n\u001b[0;32m-> 1145\u001b[0;31m         \u001b[0;32melif\u001b[0m \u001b[0mis_datetimelike_v_numeric\u001b[0m\u001b[0;34m(\u001b[0m\u001b[0mx\u001b[0m\u001b[0;34m,\u001b[0m \u001b[0my\u001b[0m\u001b[0;34m)\u001b[0m\u001b[0;34m:\u001b[0m\u001b[0;34m\u001b[0m\u001b[0;34m\u001b[0m\u001b[0m\n\u001b[0m\u001b[1;32m   1146\u001b[0m             \u001b[0;32mraise\u001b[0m \u001b[0mTypeError\u001b[0m\u001b[0;34m(\u001b[0m\u001b[0;34m\"invalid type comparison\"\u001b[0m\u001b[0;34m)\u001b[0m\u001b[0;34m\u001b[0m\u001b[0;34m\u001b[0m\u001b[0m\n\u001b[1;32m   1147\u001b[0m \u001b[0;34m\u001b[0m\u001b[0m\n",
      "\u001b[0;32m~/anaconda3/lib/python3.7/site-packages/pandas/core/dtypes/common.py\u001b[0m in \u001b[0;36mis_datetimelike_v_numeric\u001b[0;34m(a, b)\u001b[0m\n\u001b[1;32m   1347\u001b[0m     \u001b[0mis_datetimelike\u001b[0m \u001b[0;34m=\u001b[0m \u001b[0mneeds_i8_conversion\u001b[0m\u001b[0;34m\u001b[0m\u001b[0;34m\u001b[0m\u001b[0m\n\u001b[1;32m   1348\u001b[0m     return ((is_datetimelike(a) and is_numeric(b)) or\n\u001b[0;32m-> 1349\u001b[0;31m             (is_datetimelike(b) and is_numeric(a)))\n\u001b[0m\u001b[1;32m   1350\u001b[0m \u001b[0;34m\u001b[0m\u001b[0m\n\u001b[1;32m   1351\u001b[0m \u001b[0;34m\u001b[0m\u001b[0m\n",
      "\u001b[0;32m~/anaconda3/lib/python3.7/site-packages/pandas/core/dtypes/common.py\u001b[0m in \u001b[0;36mneeds_i8_conversion\u001b[0;34m(arr_or_dtype)\u001b[0m\n\u001b[1;32m   1439\u001b[0m     \u001b[0;32mif\u001b[0m \u001b[0marr_or_dtype\u001b[0m \u001b[0;32mis\u001b[0m \u001b[0;32mNone\u001b[0m\u001b[0;34m:\u001b[0m\u001b[0;34m\u001b[0m\u001b[0;34m\u001b[0m\u001b[0m\n\u001b[1;32m   1440\u001b[0m         \u001b[0;32mreturn\u001b[0m \u001b[0;32mFalse\u001b[0m\u001b[0;34m\u001b[0m\u001b[0;34m\u001b[0m\u001b[0m\n\u001b[0;32m-> 1441\u001b[0;31m     return (is_datetime_or_timedelta_dtype(arr_or_dtype) or\n\u001b[0m\u001b[1;32m   1442\u001b[0m             \u001b[0mis_datetime64tz_dtype\u001b[0m\u001b[0;34m(\u001b[0m\u001b[0marr_or_dtype\u001b[0m\u001b[0;34m)\u001b[0m \u001b[0;32mor\u001b[0m\u001b[0;34m\u001b[0m\u001b[0;34m\u001b[0m\u001b[0m\n\u001b[1;32m   1443\u001b[0m             is_period_dtype(arr_or_dtype))\n",
      "\u001b[0;32m~/anaconda3/lib/python3.7/site-packages/pandas/core/dtypes/common.py\u001b[0m in \u001b[0;36mis_datetime_or_timedelta_dtype\u001b[0;34m(arr_or_dtype)\u001b[0m\n\u001b[1;32m   1205\u001b[0m     \u001b[0;32mif\u001b[0m \u001b[0marr_or_dtype\u001b[0m \u001b[0;32mis\u001b[0m \u001b[0;32mNone\u001b[0m\u001b[0;34m:\u001b[0m\u001b[0;34m\u001b[0m\u001b[0;34m\u001b[0m\u001b[0m\n\u001b[1;32m   1206\u001b[0m         \u001b[0;32mreturn\u001b[0m \u001b[0;32mFalse\u001b[0m\u001b[0;34m\u001b[0m\u001b[0;34m\u001b[0m\u001b[0m\n\u001b[0;32m-> 1207\u001b[0;31m     \u001b[0mtipo\u001b[0m \u001b[0;34m=\u001b[0m \u001b[0m_get_dtype_type\u001b[0m\u001b[0;34m(\u001b[0m\u001b[0marr_or_dtype\u001b[0m\u001b[0;34m)\u001b[0m\u001b[0;34m\u001b[0m\u001b[0;34m\u001b[0m\u001b[0m\n\u001b[0m\u001b[1;32m   1208\u001b[0m     \u001b[0;32mreturn\u001b[0m \u001b[0missubclass\u001b[0m\u001b[0;34m(\u001b[0m\u001b[0mtipo\u001b[0m\u001b[0;34m,\u001b[0m \u001b[0;34m(\u001b[0m\u001b[0mnp\u001b[0m\u001b[0;34m.\u001b[0m\u001b[0mdatetime64\u001b[0m\u001b[0;34m,\u001b[0m \u001b[0mnp\u001b[0m\u001b[0;34m.\u001b[0m\u001b[0mtimedelta64\u001b[0m\u001b[0;34m)\u001b[0m\u001b[0;34m)\u001b[0m\u001b[0;34m\u001b[0m\u001b[0;34m\u001b[0m\u001b[0m\n\u001b[1;32m   1209\u001b[0m \u001b[0;34m\u001b[0m\u001b[0m\n",
      "\u001b[0;32m~/anaconda3/lib/python3.7/site-packages/pandas/core/dtypes/common.py\u001b[0m in \u001b[0;36m_get_dtype_type\u001b[0;34m(arr_or_dtype)\u001b[0m\n\u001b[1;32m   1872\u001b[0m         \u001b[0;32mreturn\u001b[0m \u001b[0m_get_dtype_type\u001b[0m\u001b[0;34m(\u001b[0m\u001b[0mnp\u001b[0m\u001b[0;34m.\u001b[0m\u001b[0mdtype\u001b[0m\u001b[0;34m(\u001b[0m\u001b[0marr_or_dtype\u001b[0m\u001b[0;34m)\u001b[0m\u001b[0;34m)\u001b[0m\u001b[0;34m\u001b[0m\u001b[0;34m\u001b[0m\u001b[0m\n\u001b[1;32m   1873\u001b[0m     \u001b[0;32mtry\u001b[0m\u001b[0;34m:\u001b[0m\u001b[0;34m\u001b[0m\u001b[0;34m\u001b[0m\u001b[0m\n\u001b[0;32m-> 1874\u001b[0;31m         \u001b[0;32mreturn\u001b[0m \u001b[0marr_or_dtype\u001b[0m\u001b[0;34m.\u001b[0m\u001b[0mdtype\u001b[0m\u001b[0;34m.\u001b[0m\u001b[0mtype\u001b[0m\u001b[0;34m\u001b[0m\u001b[0;34m\u001b[0m\u001b[0m\n\u001b[0m\u001b[1;32m   1875\u001b[0m     \u001b[0;32mexcept\u001b[0m \u001b[0mAttributeError\u001b[0m\u001b[0;34m:\u001b[0m\u001b[0;34m\u001b[0m\u001b[0;34m\u001b[0m\u001b[0m\n\u001b[1;32m   1876\u001b[0m         \u001b[0;32mreturn\u001b[0m \u001b[0mtype\u001b[0m\u001b[0;34m(\u001b[0m\u001b[0;32mNone\u001b[0m\u001b[0;34m)\u001b[0m\u001b[0;34m\u001b[0m\u001b[0;34m\u001b[0m\u001b[0m\n",
      "\u001b[0;31mKeyboardInterrupt\u001b[0m: "
     ]
    }
   ],
   "source": [
    "# Knn Method Two Splitting \n",
    "p = CVgenericMethodTwo(neigh,ab,5,None)\n",
    "x = p[1]\n",
    "\n",
    "plt.title('Receiver Operating Characteristic')\n",
    "plt.plot(x[0], x[1], 'b', label = 'AUC = %0.2f' % x[3])\n",
    "plt.legend(loc = 'lower right')\n",
    "plt.plot([0, 1], [0, 1],'r--')\n",
    "plt.xlim([0, 1])\n",
    "plt.ylim([0, 1])\n",
    "plt.ylabel('True Positive Rate')\n",
    "plt.xlabel('False Positive Rate')\n",
    "p[0]"
   ]
  },
  {
   "cell_type": "markdown",
   "metadata": {},
   "source": [
    "### Logistic Regression  "
   ]
  },
  {
   "cell_type": "code",
   "execution_count": null,
   "metadata": {},
   "outputs": [],
   "source": [
    "#logistic regression Trivial Splitting \n",
    "p = CVgeneric(LogisticRegression(),data_train.drop(columns=['x','y']).loc[:,['expert_label','NDAI','SD','CORR']],5,None)\n",
    "x = p[1]\n",
    "\n",
    "p[0]"
   ]
  },
  {
   "cell_type": "code",
   "execution_count": null,
   "metadata": {},
   "outputs": [],
   "source": [
    "#logistic regression Method One Splitting \n",
    "p = CVgeneric(LogisticRegression(),data_train.drop(columns=['x','y']).loc[:,['expert_label','NDAI','SD','CORR']],5,None)\n",
    "x = p[1]\n",
    "\n",
    "p[0]"
   ]
  },
  {
   "cell_type": "code",
   "execution_count": null,
   "metadata": {},
   "outputs": [],
   "source": [
    "#logsitic regression Method Two splitting \n",
    "p = CVgenericMethodTwo(LogisticRegression(),ab,5,None)\n",
    "x = p[1]\n",
    "\n",
    "plt.title('Logistic Regression Method Two')\n",
    "plt.plot(x[0], x[1], 'b', label = 'AUC = %0.2f' % x[3])\n",
    "plt.legend(loc = 'lower right')\n",
    "plt.plot([0, 1], [0, 1],'r--')\n",
    "plt.xlim([0, 1])\n",
    "plt.ylim([0, 1])\n",
    "plt.ylabel('True Positive Rate')\n",
    "plt.xlabel('False Positive Rate')\n",
    "p[0]"
   ]
  },
  {
   "cell_type": "markdown",
   "metadata": {},
   "source": [
    "### QDA  "
   ]
  },
  {
   "cell_type": "code",
   "execution_count": null,
   "metadata": {},
   "outputs": [],
   "source": [
    "#Trivial \n",
    "p = CVgeneric(QuadraticDiscriminantAnalysis(),data_train.drop(columns=['x','y']).loc[:,['expert_label','NDAI','SD','CORR']],5,None)\n",
    "x = p[1]\n",
    "\n",
    "p[0]"
   ]
  },
  {
   "cell_type": "code",
   "execution_count": null,
   "metadata": {},
   "outputs": [],
   "source": [
    "#Method One\n",
    "p = CVgenericMethodOne(QuadraticDiscriminantAnalysis(),data_train.drop(columns=['x','y']).loc[:,['expert_label','NDAI','SD','CORR']],5,None)\n",
    "x = p[1]\n",
    " \n",
    "p[0]"
   ]
  },
  {
   "cell_type": "code",
   "execution_count": null,
   "metadata": {},
   "outputs": [],
   "source": [
    "#Method Two \n",
    "p = CVgenericMethodTwo(QuadraticDiscriminantAnalysis(),ab,5,None)\n",
    "x = p[1]\n",
    "\n",
    "plt.title('QDA Method Two')\n",
    "plt.plot(x[0], x[1], 'b', label = 'AUC = %0.2f' % x[3])\n",
    "plt.legend(loc = 'lower right')\n",
    "plt.plot([0, 1], [0, 1],'r--')\n",
    "plt.xlim([0, 1])\n",
    "plt.ylim([0, 1])\n",
    "plt.ylabel('True Positive Rate')\n",
    "plt.xlabel('False Positive Rate')\n",
    "p[0]"
   ]
  },
  {
   "cell_type": "markdown",
   "metadata": {},
   "source": [
    "### Random Forest "
   ]
  },
  {
   "cell_type": "code",
   "execution_count": null,
   "metadata": {},
   "outputs": [],
   "source": [
    "#Trivial \n",
    "mod = RandomForestClassifier(n_estimators=50,random_state=0)\n",
    "p = CVgeneric(mod,data_train.drop(columns=['x','y']).loc[:,['expert_label','NDAI','SD','CORR']],5,None)\n",
    "x = p[1]\n",
    "p[0]"
   ]
  },
  {
   "cell_type": "code",
   "execution_count": null,
   "metadata": {},
   "outputs": [],
   "source": [
    "#Method One\n",
    "p = CVgenericMethodOne(mod,data_train.drop(columns=['x','y']).loc[:,['expert_label','NDAI','SD','CORR']],5,None)\n",
    "x = p[1]\n",
    "\n",
    "p[0]"
   ]
  },
  {
   "cell_type": "code",
   "execution_count": null,
   "metadata": {},
   "outputs": [],
   "source": [
    "#Method Two\n",
    "mod = RandomForestClassifier(n_estimators=50,random_state=0)\n",
    "p = CVgenericMethodOne(mod,ab,5,None)\n",
    "x = p[1]\n",
    "\n",
    "plt.title('Random Forest Method Two')\n",
    "plt.plot(x[0], x[1], 'b', label = 'AUC = %0.2f' % x[3])\n",
    "plt.legend(loc = 'lower right')\n",
    "plt.plot([0, 1], [0, 1],'r--')\n",
    "plt.xlim([0, 1])\n",
    "plt.ylim([0, 1])\n",
    "plt.ylabel('True Positive Rate')\n",
    "plt.xlabel('False Positive Rate')\n",
    "p[0]"
   ]
  },
  {
   "cell_type": "markdown",
   "metadata": {},
   "source": [
    "# Part 4a\n",
    "\n",
    "We will look into the random forest as applied to the fold with the lowest accuracy."
   ]
  },
  {
   "cell_type": "code",
   "execution_count": 74,
   "metadata": {},
   "outputs": [
    {
     "data": {
      "text/plain": [
       "0.9388868736890249"
      ]
     },
     "execution_count": 74,
     "metadata": {},
     "output_type": "execute_result"
    }
   ],
   "source": [
    "\n",
    "#focusing on the model trained on the third fold, which had the lowest accuracy \n",
    "x = KFold(n_splits=5)\n",
    "d = x.split(data_train.index)\n",
    "classifier = RandomForestClassifier(n_estimators=50,random_state=0)\n",
    "iterations = CVMethodOne(5,data_train.drop(columns='expert_label').loc[:,['NDAI','SD','CORR']],data_train['expert_label'])\n",
    "train_x = iterations[0][3]\n",
    "train_y = iterations[1][3]\n",
    "mod = classifier.fit(X=train_x,y=train_y)\n",
    "pred = classifier.predict(data_test_x.loc[:,['NDAI','SD','CORR']])\n",
    "classifier.score(data_test_x.loc[:,['NDAI','SD','CORR']],data_test_y)\n",
    "       "
   ]
  },
  {
   "cell_type": "code",
   "execution_count": 75,
   "metadata": {},
   "outputs": [
    {
     "name": "stdout",
     "output_type": "stream",
     "text": [
      "Variable: NDAI                 Importance: 0.39\n",
      "Variable: SD                   Importance: 0.31\n",
      "Variable: CORR                 Importance: 0.3\n"
     ]
    },
    {
     "data": {
      "text/plain": [
       "[None, None, None]"
      ]
     },
     "execution_count": 75,
     "metadata": {},
     "output_type": "execute_result"
    }
   ],
   "source": [
    "# Get numerical feature importances\n",
    "rf = mod\n",
    "feature_list = ['NDAI','SD','CORR']\n",
    "importances = list(rf.feature_importances_)\n",
    "# List of tuples with variable and importance\n",
    "feature_importances = [(feature, round(importance, 2)) for feature, importance in zip(feature_list, importances)]\n",
    "# Sort the feature importances by most important first\n",
    "feature_importances = sorted(feature_importances, key = lambda x: x[1], reverse = True)\n",
    "# Print out the feature and importances \n",
    "[print('Variable: {:20} Importance: {}'.format(*pair)) for pair in feature_importances]"
   ]
  },
  {
   "cell_type": "code",
   "execution_count": 76,
   "metadata": {},
   "outputs": [
    {
     "data": {
      "text/html": [
       "<div>\n",
       "<style scoped>\n",
       "    .dataframe tbody tr th:only-of-type {\n",
       "        vertical-align: middle;\n",
       "    }\n",
       "\n",
       "    .dataframe tbody tr th {\n",
       "        vertical-align: top;\n",
       "    }\n",
       "\n",
       "    .dataframe thead th {\n",
       "        text-align: right;\n",
       "    }\n",
       "</style>\n",
       "<table border=\"1\" class=\"dataframe\">\n",
       "  <thead>\n",
       "    <tr style=\"text-align: right;\">\n",
       "      <th></th>\n",
       "      <th>Variable Importance</th>\n",
       "    </tr>\n",
       "  </thead>\n",
       "  <tbody>\n",
       "    <tr>\n",
       "      <th>NDAI</th>\n",
       "      <td>0.39</td>\n",
       "    </tr>\n",
       "    <tr>\n",
       "      <th>SD</th>\n",
       "      <td>0.31</td>\n",
       "    </tr>\n",
       "    <tr>\n",
       "      <th>CORR</th>\n",
       "      <td>0.30</td>\n",
       "    </tr>\n",
       "  </tbody>\n",
       "</table>\n",
       "</div>"
      ],
      "text/plain": [
       "      Variable Importance\n",
       "NDAI                 0.39\n",
       "SD                   0.31\n",
       "CORR                 0.30"
      ]
     },
     "execution_count": 76,
     "metadata": {},
     "output_type": "execute_result"
    }
   ],
   "source": [
    "index_list = []\n",
    "df = {}\n",
    "df['Variable Importance'] = []\n",
    "for pair in feature_importances: \n",
    "    index_list.append(pair[0])\n",
    "    df['Variable Importance'].append(pair[1])\n",
    "d = pd.DataFrame.from_dict(df)\n",
    "d.index = index_list\n",
    "d"
   ]
  },
  {
   "cell_type": "markdown",
   "metadata": {},
   "source": [
    "# Part 4b "
   ]
  },
  {
   "cell_type": "code",
   "execution_count": 108,
   "metadata": {},
   "outputs": [],
   "source": [
    "incorrect = [] \n",
    "correct= [] \n",
    "x = data_test_x\n",
    "x = x.reset_index()\n",
    "for i in range(0,len(pred)):\n",
    "    if data_test_y.iloc[i] != pred[i]:\n",
    "        incorrect.append(int(x.iloc[i,:]['index']))\n",
    "    else: \n",
    "        correct.append(int(x.iloc[i,:]['index']))\n"
   ]
  },
  {
   "cell_type": "code",
   "execution_count": 113,
   "metadata": {},
   "outputs": [
    {
     "data": {
      "text/html": [
       "<div>\n",
       "<style scoped>\n",
       "    .dataframe tbody tr th:only-of-type {\n",
       "        vertical-align: middle;\n",
       "    }\n",
       "\n",
       "    .dataframe tbody tr th {\n",
       "        vertical-align: top;\n",
       "    }\n",
       "\n",
       "    .dataframe thead th {\n",
       "        text-align: right;\n",
       "    }\n",
       "</style>\n",
       "<table border=\"1\" class=\"dataframe\">\n",
       "  <thead>\n",
       "    <tr style=\"text-align: right;\">\n",
       "      <th></th>\n",
       "      <th>NDAI</th>\n",
       "      <th>SD</th>\n",
       "      <th>CORR</th>\n",
       "    </tr>\n",
       "  </thead>\n",
       "  <tbody>\n",
       "    <tr>\n",
       "      <th>count</th>\n",
       "      <td>4865.000000</td>\n",
       "      <td>4865.000000</td>\n",
       "      <td>4865.000000</td>\n",
       "    </tr>\n",
       "    <tr>\n",
       "      <th>mean</th>\n",
       "      <td>1.374822</td>\n",
       "      <td>8.963276</td>\n",
       "      <td>0.173354</td>\n",
       "    </tr>\n",
       "    <tr>\n",
       "      <th>std</th>\n",
       "      <td>1.248512</td>\n",
       "      <td>10.832750</td>\n",
       "      <td>0.081981</td>\n",
       "    </tr>\n",
       "    <tr>\n",
       "      <th>min</th>\n",
       "      <td>-1.634195</td>\n",
       "      <td>0.312184</td>\n",
       "      <td>-0.211880</td>\n",
       "    </tr>\n",
       "    <tr>\n",
       "      <th>25%</th>\n",
       "      <td>0.651565</td>\n",
       "      <td>2.779175</td>\n",
       "      <td>0.120778</td>\n",
       "    </tr>\n",
       "    <tr>\n",
       "      <th>50%</th>\n",
       "      <td>1.449404</td>\n",
       "      <td>5.111278</td>\n",
       "      <td>0.159152</td>\n",
       "    </tr>\n",
       "    <tr>\n",
       "      <th>75%</th>\n",
       "      <td>2.344949</td>\n",
       "      <td>10.491170</td>\n",
       "      <td>0.211835</td>\n",
       "    </tr>\n",
       "    <tr>\n",
       "      <th>max</th>\n",
       "      <td>4.196991</td>\n",
       "      <td>99.267700</td>\n",
       "      <td>0.721547</td>\n",
       "    </tr>\n",
       "  </tbody>\n",
       "</table>\n",
       "</div>"
      ],
      "text/plain": [
       "              NDAI           SD         CORR\n",
       "count  4865.000000  4865.000000  4865.000000\n",
       "mean      1.374822     8.963276     0.173354\n",
       "std       1.248512    10.832750     0.081981\n",
       "min      -1.634195     0.312184    -0.211880\n",
       "25%       0.651565     2.779175     0.120778\n",
       "50%       1.449404     5.111278     0.159152\n",
       "75%       2.344949    10.491170     0.211835\n",
       "max       4.196991    99.267700     0.721547"
      ]
     },
     "execution_count": 113,
     "metadata": {},
     "output_type": "execute_result"
    }
   ],
   "source": [
    "incorrect_df = data_test_x[data_test_x.index.isin(incorrect)]\n",
    "correct_df = data_test_x[data_test_x.index.isin(correct)]\n",
    "incorrect_df.loc[:,['NDAI','SD','CORR']].describe()"
   ]
  },
  {
   "cell_type": "code",
   "execution_count": 114,
   "metadata": {},
   "outputs": [
    {
     "data": {
      "text/html": [
       "<div>\n",
       "<style scoped>\n",
       "    .dataframe tbody tr th:only-of-type {\n",
       "        vertical-align: middle;\n",
       "    }\n",
       "\n",
       "    .dataframe tbody tr th {\n",
       "        vertical-align: top;\n",
       "    }\n",
       "\n",
       "    .dataframe thead th {\n",
       "        text-align: right;\n",
       "    }\n",
       "</style>\n",
       "<table border=\"1\" class=\"dataframe\">\n",
       "  <thead>\n",
       "    <tr style=\"text-align: right;\">\n",
       "      <th></th>\n",
       "      <th>NDAI</th>\n",
       "      <th>SD</th>\n",
       "      <th>CORR</th>\n",
       "    </tr>\n",
       "  </thead>\n",
       "  <tbody>\n",
       "    <tr>\n",
       "      <th>count</th>\n",
       "      <td>60608.000000</td>\n",
       "      <td>60608.000000</td>\n",
       "      <td>60608.000000</td>\n",
       "    </tr>\n",
       "    <tr>\n",
       "      <th>mean</th>\n",
       "      <td>0.611875</td>\n",
       "      <td>6.290293</td>\n",
       "      <td>0.187943</td>\n",
       "    </tr>\n",
       "    <tr>\n",
       "      <th>std</th>\n",
       "      <td>1.459273</td>\n",
       "      <td>8.718341</td>\n",
       "      <td>0.111952</td>\n",
       "    </tr>\n",
       "    <tr>\n",
       "      <th>min</th>\n",
       "      <td>-1.841971</td>\n",
       "      <td>0.198708</td>\n",
       "      <td>-0.353672</td>\n",
       "    </tr>\n",
       "    <tr>\n",
       "      <th>25%</th>\n",
       "      <td>-0.885413</td>\n",
       "      <td>1.004849</td>\n",
       "      <td>0.113629</td>\n",
       "    </tr>\n",
       "    <tr>\n",
       "      <th>50%</th>\n",
       "      <td>0.644263</td>\n",
       "      <td>3.052425</td>\n",
       "      <td>0.148052</td>\n",
       "    </tr>\n",
       "    <tr>\n",
       "      <th>75%</th>\n",
       "      <td>1.898180</td>\n",
       "      <td>7.789158</td>\n",
       "      <td>0.243183</td>\n",
       "    </tr>\n",
       "    <tr>\n",
       "      <th>max</th>\n",
       "      <td>4.338682</td>\n",
       "      <td>110.467640</td>\n",
       "      <td>0.796298</td>\n",
       "    </tr>\n",
       "  </tbody>\n",
       "</table>\n",
       "</div>"
      ],
      "text/plain": [
       "               NDAI            SD          CORR\n",
       "count  60608.000000  60608.000000  60608.000000\n",
       "mean       0.611875      6.290293      0.187943\n",
       "std        1.459273      8.718341      0.111952\n",
       "min       -1.841971      0.198708     -0.353672\n",
       "25%       -0.885413      1.004849      0.113629\n",
       "50%        0.644263      3.052425      0.148052\n",
       "75%        1.898180      7.789158      0.243183\n",
       "max        4.338682    110.467640      0.796298"
      ]
     },
     "execution_count": 114,
     "metadata": {},
     "output_type": "execute_result"
    }
   ],
   "source": [
    "correct_df.loc[:,['NDAI','SD','CORR']].describe()"
   ]
  },
  {
   "cell_type": "code",
   "execution_count": null,
   "metadata": {},
   "outputs": [],
   "source": [
    "incorrect_df = data_test_x[data_test_x.index.isin(incorrect)]\n",
    "correct_df = data_test_x[data_test_x.index.isin(correct)]\n",
    "incorrect_df.loc[:,['NDAI','SD','CORR']].describe()"
   ]
  },
  {
   "cell_type": "code",
   "execution_count": 121,
   "metadata": {},
   "outputs": [
    {
     "data": {
      "image/png": "[encoded data removed]",
      "text/plain": [
       "<Figure size 432x288 with 1 Axes>"
      ]
     },
     "metadata": {
      "needs_background": "light"
     },
     "output_type": "display_data"
    }
   ],
   "source": [
    "to_plot = incorrect_df\n",
    "sb.scatterplot(to_plot['x'],to_plot['y'],color='red')\n",
    "plt.title('Incorrect Locations For Merged Data')\n",
    "plt.show()"
   ]
  },
  {
   "cell_type": "code",
   "execution_count": 122,
   "metadata": {},
   "outputs": [
    {
     "data": {
      "image/png": "[encoded data removed]",
      "text/plain": [
       "<Figure size 432x288 with 1 Axes>"
      ]
     },
     "metadata": {
      "needs_background": "light"
     },
     "output_type": "display_data"
    }
   ],
   "source": [
    "to_plot = correct_df\n",
    "sb.scatterplot(to_plot['x'],to_plot['y'],color='blue')\n",
    "plt.title('Correct Locations For Merged Data')\n",
    "plt.show()"
   ]
  }
 ],
 "metadata": {
  "kernelspec": {
   "display_name": "Python 3",
   "language": "python",
   "name": "python3"
  },
  "language_info": {
   "codemirror_mode": {
    "name": "ipython",
    "version": 3
   },
   "file_extension": ".py",
   "mimetype": "text/x-python",
   "name": "python",
   "nbconvert_exporter": "python",
   "pygments_lexer": "ipython3",
   "version": "3.7.3"
  }
 },
 "nbformat": 4,
 "nbformat_minor": 2
}
